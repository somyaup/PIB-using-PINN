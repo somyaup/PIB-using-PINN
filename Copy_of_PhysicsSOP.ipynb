{
  "nbformat": 4,
  "nbformat_minor": 0,
  "metadata": {
    "colab": {
      "name": "Copy of PhysicsSOP.ipynb",
      "provenance": [],
      "collapsed_sections": [],
      "toc_visible": true,
      "include_colab_link": true
    },
    "kernelspec": {
      "display_name": "Python 3",
      "name": "python3"
    }
  },
  "cells": [
    {
      "cell_type": "markdown",
      "metadata": {
        "id": "view-in-github",
        "colab_type": "text"
      },
      "source": [
        "<a href=\"https://colab.research.google.com/github/somyaup/PIB-using-PINN/blob/main/Copy_of_PhysicsSOP.ipynb\" target=\"_parent\"><img src=\"https://colab.research.google.com/assets/colab-badge.svg\" alt=\"Open In Colab\"/></a>"
      ]
    },
    {
      "cell_type": "code",
      "metadata": {
        "id": "TCZyhI0GZ_Bn"
      },
      "source": [
        "import autograd.numpy as np\n",
        "from autograd import grad, elementwise_grad\n",
        "import autograd.numpy.random as npr\n",
        "import myOptimizers as optims\n",
        "#import torch.optim as optims\n",
        "import importlib\n",
        "import os"
      ],
      "execution_count": null,
      "outputs": []
    },
    {
      "cell_type": "code",
      "metadata": {
        "colab": {
          "base_uri": "https://localhost:8080/"
        },
        "id": "4BcPieEgcCZL",
        "outputId": "c8ae1cb3-a8d2-459f-d6b8-d644fd22241e"
      },
      "source": [
        "from google.colab import drive\n",
        "drive.mount('/content/drive')"
      ],
      "execution_count": null,
      "outputs": [
        {
          "output_type": "stream",
          "text": [
            "Drive already mounted at /content/drive; to attempt to forcibly remount, call drive.mount(\"/content/drive\", force_remount=True).\n"
          ],
          "name": "stdout"
        }
      ]
    },
    {
      "cell_type": "markdown",
      "metadata": {
        "id": "2a05st5JQ3mN"
      },
      "source": [
        "# **Functions**\n",
        "##iћ d/dt |**Ψ**(x,t)⟩=**H** |**Ψ**(x,t)⟩\n",
        "\n",
        "Particle in a box of length L from x=0 to x=L\n",
        "\n",
        "##wavefuction :wf=Ψ\n",
        "##differential equation =(iћ d/dt -E - 1/2 m ω^2 x^2) |**Ψ**(x,t)⟩\n",
        "\n"
      ]
    },
    {
      "cell_type": "markdown",
      "metadata": {
        "id": "fcvJmZ6XwKIU"
      },
      "source": [
        "# New section"
      ]
    },
    {
      "cell_type": "code",
      "metadata": {
        "id": "eFzjidNdQ3CE"
      },
      "source": [
        "def init_weights(scale, network_size, rs = npr.RandomState(42)):\n",
        "  return [(rs.randn(inSize, outSize) * scale,\n",
        "          rs.rand(outSize) * scale)\n",
        "          for inSize, outSize in zip(network_size[:-1], network_size[1:])]"
      ],
      "execution_count": null,
      "outputs": []
    },
    {
      "cell_type": "markdown",
      "metadata": {
        "id": "L-NU6levXEX9"
      },
      "source": [
        "Model Definition"
      ]
    },
    {
      "cell_type": "code",
      "metadata": {
        "id": "Kc4QINscrXMw"
      },
      "source": [
        " def activation(x):\n",
        "  return (2 / (1.0 + np.exp(-2*x))) - 1\n",
        "\n",
        "def psi(nnparams, input):\n",
        "  initInput = input\n",
        "  xtilda = (initInput - x0)/(x1 - x0)\n",
        " \n",
        "  for w,b in nnparams:\n",
        "    output = np.dot(input, w) + b\n",
        "    input = activation(output)\n",
        "  \n",
        "  #return (1-xtilda)*psi0 + xtilda*psi1 + (1-np.exp(xtilda * (1-xtilda)))*output\n",
        "  return output\n",
        "\n",
        "dpsi = elementwise_grad(psi, 1)\n",
        "ddpsi = elementwise_grad(dpsi, 1)"
      ],
      "execution_count": null,
      "outputs": []
    },
    {
      "cell_type": "code",
      "metadata": {
        "id": "TYA31zBWq2v_"
      },
      "source": [
        "# def objective(params, step):\n",
        "#   pcrc1 = 10\n",
        "#   nnparams = params[\"nn\"]\n",
        "#   E = params[\"E\"]\n",
        "  \n",
        "#   wf = psi(nnparams, x)\n",
        "#   diffeq =  ddpsi(nnparams, x)+ np.multiply(E*np.ones(x.shape)-x**2, wf)\n",
        "#   y2 = wf**2 #probability fn\n",
        "#   prob = np.sum((y2[1:] + y2[0:-1]) / 2 * (x[1:] - x[0:-1]))\n",
        "\n",
        "#   mean = np.mean(diffeq**2)\n",
        "#   #loss = mean + (1-prob)**2 + (pcrc1/prob + pcrc1*prob) + 15*(psi0 - wf[0])**2 + 15*(psi1 - wf[-1])**2\n",
        "#   loss= mean + (1-prob)**2 + (pcrc1/prob + pcrc1*prob)\n",
        "#   if(step%100==0):\n",
        "#     print (\"Iteration \" + str(step) + \"\\ndiffeq = \" + str(mean) + \"\\nprob = \" + str(prob))\n",
        "#     #print (\"loss = \" + str(loss) + \"\\nE = \" + str(params['E']))\n",
        "#     print (\"loss = \" + str(loss))\n",
        "#     print (\"--------------------------------------------------------------\")\n",
        "#     return loss\n",
        "\n",
        "def objective(params, step):\n",
        "  pcrc1 = 15\n",
        "  nnparams = params[\"nn\"]\n",
        "  #E = params[\"E\"]\n",
        "\n",
        "  wf = psi(nnparams, x)\n",
        "  diffeq = -0.5 * ddpsi(nnparams, x) - np.multiply(30*np.ones(x.shape) - x**2, wf) \n",
        "  y2 = wf**2 #probability fn\n",
        "  prob = np.sum((y2[1:] + y2[0:-1]) / 2 * (x[1:] - x[0:-1]))\n",
        "\n",
        "  mean = np.mean(diffeq**2)\n",
        "  loss = mean + (1-prob)**2 + (pcrc1/prob + pcrc1*prob) #+ 15*(psi0 - wf[0])**2 + 15*(psi1 - wf[-1])**2\n",
        "\n",
        "  if(step%100==0):\n",
        "    print (\"Iteration \" + str(step) + \"\\ndiffeq = \" + str(mean) + \"\\nprob = \" + str(prob))\n",
        "    print (\"loss = \" + str(loss))# + \"\\nE = \" + str(params['E']))\n",
        "    print (\"--------------------------------------------------------------\")\n",
        "\n",
        "  return loss"
      ],
      "execution_count": null,
      "outputs": []
    },
    {
      "cell_type": "code",
      "metadata": {
        "id": "FF-r3vJ7y3ES"
      },
      "source": [
        ""
      ],
      "execution_count": null,
      "outputs": []
    },
    {
      "cell_type": "markdown",
      "metadata": {
        "id": "xiWCtIvJO3-R"
      },
      "source": [
        "\n",
        "**Intializations**"
      ]
    },
    {
      "cell_type": "code",
      "metadata": {
        "id": "KtbMlHFNOKnN"
      },
      "source": [
        "psi0 = 0 # Boundry condition\n",
        "psi1 = 0 # Boundry condition\n",
        "l = 2 # Length of 1D box\n",
        "n = 9# Energy level to be found\n",
        "scale = 2 # For initialization\n",
        "divs = 600 # Divisions of x scale\n",
        "x0 = -scale\n",
        "x1 = scale"
      ],
      "execution_count": null,
      "outputs": []
    },
    {
      "cell_type": "code",
      "metadata": {
        "id": "-2bsK-2jbzK4"
      },
      "source": [
        "#Defining the network\n",
        "nn_params = init_weights(scale/(x1-x0), network_size = [1,32,32,1])\n",
        "\n",
        "#Initializing a random Eighen Function\n",
        "\n",
        "Einit = 30.0\n",
        "# params = {\"nn\" : nn_params, \"E\": Einit}\n",
        "params = {\"nn\" : nn_params}\n",
        "#input space\n",
        "x = np.linspace(x0, x1, divs)[:, None]\n",
        "V = np.zeros(x.shape)"
      ],
      "execution_count": null,
      "outputs": []
    },
    {
      "cell_type": "code",
      "metadata": {
        "colab": {
          "base_uri": "https://localhost:8080/",
          "height": 282
        },
        "id": "0wfDw0dI7meV",
        "outputId": "b7edd8a1-9203-4415-afe4-c64acff81709"
      },
      "source": [
        "# print(V.shape, x.shape)\n",
        "# xs=x**2\n",
        "# print(xs.shape)\n",
        "# print (nn_params)\n",
        "import matplotlib.pyplot as plt\n",
        "x = np.linspace(x0, x1)[:, None]\n",
        "y = psi(params['nn'], x)\n",
        "\n",
        "plt.plot(x, y, label='E = '+str(Einit)+' before training')  # Plotting the NN output\n",
        "#plt.plot(x, np.sqrt(2/l) * np.sin(n*np.pi * (x-x0)/l), 'r--', label='analytical')  # Plotting the actual wavefuncion\n",
        "plt.legend()"
      ],
      "execution_count": null,
      "outputs": [
        {
          "output_type": "execute_result",
          "data": {
            "text/plain": [
              "<matplotlib.legend.Legend at 0x7f5ef1259cf8>"
            ]
          },
          "metadata": {
            "tags": []
          },
          "execution_count": 61
        },
        {
          "output_type": "display_data",
          "data": {
            "image/png": "[encoded data removed]",
            "text/plain": [
              "<Figure size 432x288 with 1 Axes>"
            ]
          },
          "metadata": {
            "tags": [],
            "needs_background": "light"
          }
        }
      ]
    },
    {
      "cell_type": "markdown",
      "metadata": {
        "id": "jh9AyBfn3LS0"
      },
      "source": [
        "Running Model"
      ]
    },
    {
      "cell_type": "code",
      "metadata": {
        "id": "0_25n_pOcRcd"
      },
      "source": [
        ""
      ],
      "execution_count": null,
      "outputs": []
    },
    {
      "cell_type": "code",
      "metadata": {
        "colab": {
          "base_uri": "https://localhost:8080/",
          "height": 1000
        },
        "id": "i9-SCileqYWf",
        "outputId": "f90a56c9-a433-4b84-ecde-b245cb26d53c"
      },
      "source": [
        "optims = importlib.reload(optims)\n",
        "\n",
        "params = optims.adam (grad(objective), params, step_size=0.001, num_iters=100000)\n",
        "#params = optims.sgd(grad(objective), params)\n",
        "''' {'params': model.base.parameters()},\n",
        "                {'params': model.classifier.parameters(), 'lr': 1e-3}\n",
        "            ], lr=1e-2, momentum=0.9)'''"
      ],
      "execution_count": null,
      "outputs": [
        {
          "output_type": "stream",
          "text": [
            "Iteration 0\n",
            "diffeq = Autograd ArrayBox with value 3656.533830010241\n",
            "prob = Autograd ArrayBox with value 17.654333892000466\n",
            "loss = Autograd ArrayBox with value 4199.565325505087\n",
            "--------------------------------------------------------------\n",
            "Iteration 100\n",
            "diffeq = Autograd ArrayBox with value 46.01870007910274\n",
            "prob = Autograd ArrayBox with value 0.2789270951341098\n",
            "loss = Autograd ArrayBox with value 104.50004597694729\n",
            "--------------------------------------------------------------\n",
            "Iteration 200\n",
            "diffeq = Autograd ArrayBox with value 45.36617314412687\n",
            "prob = Autograd ArrayBox with value 0.28522261477070104\n",
            "loss = Autograd ArrayBox with value 102.74591934924769\n",
            "--------------------------------------------------------------\n",
            "Iteration 300\n",
            "diffeq = Autograd ArrayBox with value 45.10830983831037\n",
            "prob = Autograd ArrayBox with value 0.2904598418058339\n",
            "loss = Autograd ArrayBox with value 101.6109055088378\n",
            "--------------------------------------------------------------\n",
            "Iteration 400\n",
            "diffeq = Autograd ArrayBox with value 44.761508965327494\n",
            "prob = Autograd ArrayBox with value 0.296483771033751\n",
            "loss = Autograd ArrayBox with value 100.29668905337002\n",
            "--------------------------------------------------------------\n",
            "Iteration 500\n",
            "diffeq = Autograd ArrayBox with value 44.77814407480963\n",
            "prob = Autograd ArrayBox with value 0.3033373978932682\n",
            "loss = Autograd ArrayBox with value 99.26343066384817\n",
            "--------------------------------------------------------------\n",
            "Iteration 600\n",
            "diffeq = Autograd ArrayBox with value 44.42111014003664\n",
            "prob = Autograd ArrayBox with value 0.306004058508198\n",
            "loss = Autograd ArrayBox with value 98.51175908433049\n",
            "--------------------------------------------------------------\n",
            "Iteration 700\n",
            "diffeq = Autograd ArrayBox with value 43.6355196222521\n",
            "prob = Autograd ArrayBox with value 0.3065611205729085\n",
            "loss = Autograd ArrayBox with value 97.64467768676195\n",
            "--------------------------------------------------------------\n",
            "Iteration 800\n",
            "diffeq = Autograd ArrayBox with value 42.53442259695408\n",
            "prob = Autograd ArrayBox with value 0.3071492629981691\n",
            "loss = Autograd ArrayBox with value 96.45789444708407\n",
            "--------------------------------------------------------------\n",
            "Iteration 900\n",
            "diffeq = Autograd ArrayBox with value 41.12806391906433\n",
            "prob = Autograd ArrayBox with value 0.308878439026841\n",
            "loss = Autograd ArrayBox with value 94.80168349869597\n",
            "--------------------------------------------------------------\n",
            "Iteration 1000\n",
            "diffeq = Autograd ArrayBox with value 39.282662843911865\n",
            "prob = Autograd ArrayBox with value 0.3122441225406317\n",
            "loss = Autograd ArrayBox with value 92.47866781455595\n",
            "--------------------------------------------------------------\n",
            "Iteration 1100\n",
            "diffeq = Autograd ArrayBox with value 36.90605198798568\n",
            "prob = Autograd ArrayBox with value 0.3178705716158871\n",
            "loss = Autograd ArrayBox with value 89.32842872399745\n",
            "--------------------------------------------------------------\n",
            "Iteration 1200\n",
            "diffeq = Autograd ArrayBox with value 34.06311732936585\n",
            "prob = Autograd ArrayBox with value 0.32629545317600284\n",
            "loss = Autograd ArrayBox with value 85.38203380905762\n",
            "--------------------------------------------------------------\n",
            "Iteration 1300\n",
            "diffeq = Autograd ArrayBox with value 30.95875068168927\n",
            "prob = Autograd ArrayBox with value 0.33768456016151993\n",
            "loss = Autograd ArrayBox with value 80.8828343349787\n",
            "--------------------------------------------------------------\n",
            "Iteration 1400\n",
            "diffeq = Autograd ArrayBox with value 27.868952342216506\n",
            "prob = Autograd ArrayBox with value 0.3519991164304962\n",
            "loss = Autograd ArrayBox with value 76.18258756390594\n",
            "--------------------------------------------------------------\n",
            "Iteration 1500\n",
            "diffeq = Autograd ArrayBox with value 24.981908350011086\n",
            "prob = Autograd ArrayBox with value 0.36892055057976814\n",
            "loss = Autograd ArrayBox with value 71.57313871150295\n",
            "--------------------------------------------------------------\n",
            "Iteration 1600\n",
            "diffeq = Autograd ArrayBox with value 22.4841863568682\n",
            "prob = Autograd ArrayBox with value 0.3883350509166058\n",
            "loss = Autograd ArrayBox with value 67.3097847293747\n",
            "--------------------------------------------------------------\n",
            "Iteration 1700\n",
            "diffeq = Autograd ArrayBox with value 20.666944705061116\n",
            "prob = Autograd ArrayBox with value 0.41019004190470104\n",
            "loss = Autograd ArrayBox with value 63.73608689740689\n",
            "--------------------------------------------------------------\n",
            "Iteration 1800\n",
            "diffeq = Autograd ArrayBox with value 19.625211013352303\n",
            "prob = Autograd ArrayBox with value 0.4329314763384818\n",
            "loss = Autograd ArrayBox with value 61.088265283781055\n",
            "--------------------------------------------------------------\n",
            "Iteration 1900\n",
            "diffeq = Autograd ArrayBox with value 19.053528375620505\n",
            "prob = Autograd ArrayBox with value 0.45312327147089504\n",
            "loss = Autograd ArrayBox with value 59.253026159459395\n",
            "--------------------------------------------------------------\n",
            "Iteration 2000\n",
            "diffeq = Autograd ArrayBox with value 18.616542551099215\n",
            "prob = Autograd ArrayBox with value 0.4688551175893344\n",
            "loss = Autograd ArrayBox with value 57.92430978248789\n",
            "--------------------------------------------------------------\n",
            "Iteration 2100\n",
            "diffeq = Autograd ArrayBox with value 18.20495585486276\n",
            "prob = Autograd ArrayBox with value 0.4810393942304312\n",
            "loss = Autograd ArrayBox with value 56.87234419737739\n",
            "--------------------------------------------------------------\n",
            "Iteration 2200\n",
            "diffeq = Autograd ArrayBox with value 17.78292799972974\n",
            "prob = Autograd ArrayBox with value 0.49091245513824505\n",
            "loss = Autograd ArrayBox with value 55.961131113090495\n",
            "--------------------------------------------------------------\n",
            "Iteration 2300\n",
            "diffeq = Autograd ArrayBox with value 17.35788684138374\n",
            "prob = Autograd ArrayBox with value 0.49960846623600863\n",
            "loss = Autograd ArrayBox with value 55.12591595808511\n",
            "--------------------------------------------------------------\n",
            "Iteration 2400\n",
            "diffeq = Autograd ArrayBox with value 16.944386172102803\n",
            "prob = Autograd ArrayBox with value 0.5079601745647458\n",
            "loss = Autograd ArrayBox with value 54.33576607505138\n",
            "--------------------------------------------------------------\n",
            "Iteration 2500\n",
            "diffeq = Autograd ArrayBox with value 16.540195239262346\n",
            "prob = Autograd ArrayBox with value 0.5164000785190643\n",
            "loss = Autograd ArrayBox with value 53.56731107809429\n",
            "--------------------------------------------------------------\n",
            "Iteration 2600\n",
            "diffeq = Autograd ArrayBox with value 16.138934519116003\n",
            "prob = Autograd ArrayBox with value 0.5252493939510605\n",
            "loss = Autograd ArrayBox with value 52.80092612217975\n",
            "--------------------------------------------------------------\n",
            "Iteration 2700\n",
            "diffeq = Autograd ArrayBox with value 15.732690916642829\n",
            "prob = Autograd ArrayBox with value 0.5347585087384115\n",
            "loss = Autograd ArrayBox with value 52.02056275487084\n",
            "--------------------------------------------------------------\n",
            "Iteration 2800\n",
            "diffeq = Autograd ArrayBox with value 15.31404996774464\n",
            "prob = Autograd ArrayBox with value 0.544923259125952\n",
            "loss = Autograd ArrayBox with value 51.221805495814564\n",
            "--------------------------------------------------------------\n",
            "Iteration 2900\n",
            "diffeq = Autograd ArrayBox with value 14.887566825458004\n",
            "prob = Autograd ArrayBox with value 0.5553035370629067\n",
            "loss = Autograd ArrayBox with value 50.427128482959986\n",
            "--------------------------------------------------------------\n",
            "Iteration 3000\n",
            "diffeq = Autograd ArrayBox with value 14.463007127925788\n",
            "prob = Autograd ArrayBox with value 0.5650266832133084\n",
            "loss = Autograd ArrayBox with value 49.67502797582416\n",
            "--------------------------------------------------------------\n",
            "Iteration 3100\n",
            "diffeq = Autograd ArrayBox with value 14.031666999412721\n",
            "prob = Autograd ArrayBox with value 0.5733792394423054\n",
            "loss = Autograd ArrayBox with value 48.97505690665944\n",
            "--------------------------------------------------------------\n",
            "Iteration 3200\n",
            "diffeq = Autograd ArrayBox with value 13.588200604642491\n",
            "prob = Autograd ArrayBox with value 0.5807354312884204\n",
            "loss = Autograd ArrayBox with value 48.30433263107521\n",
            "--------------------------------------------------------------\n",
            "Iteration 3300\n",
            "diffeq = Autograd ArrayBox with value 13.148409331717797\n",
            "prob = Autograd ArrayBox with value 0.5880314644134459\n",
            "loss = Autograd ArrayBox with value 47.647438452744126\n",
            "--------------------------------------------------------------\n",
            "Iteration 3400\n",
            "diffeq = Autograd ArrayBox with value 12.721295539971084\n",
            "prob = Autograd ArrayBox with value 0.5956304821559067\n",
            "loss = Autograd ArrayBox with value 47.002666330362416\n",
            "--------------------------------------------------------------\n",
            "Iteration 3500\n",
            "diffeq = Autograd ArrayBox with value 12.309067113750931\n",
            "prob = Autograd ArrayBox with value 0.6036059070961304\n",
            "loss = Autograd ArrayBox with value 46.37093542984056\n",
            "--------------------------------------------------------------\n",
            "Iteration 3600\n",
            "diffeq = Autograd ArrayBox with value 11.904086916025893\n",
            "prob = Autograd ArrayBox with value 0.611881763346757\n",
            "loss = Autograd ArrayBox with value 45.74748919258957\n",
            "--------------------------------------------------------------\n",
            "Iteration 3700\n",
            "diffeq = Autograd ArrayBox with value 11.479565533282916\n",
            "prob = Autograd ArrayBox with value 0.6201643437994315\n",
            "loss = Autograd ArrayBox with value 45.11344290308237\n",
            "--------------------------------------------------------------\n",
            "Iteration 3800\n",
            "diffeq = Autograd ArrayBox with value 11.008167976080621\n",
            "prob = Autograd ArrayBox with value 0.6286189827718516\n",
            "loss = Autograd ArrayBox with value 44.43720768850359\n",
            "--------------------------------------------------------------\n",
            "Iteration 3900\n",
            "diffeq = Autograd ArrayBox with value 10.502186433693327\n",
            "prob = Autograd ArrayBox with value 0.6381218356109671\n",
            "loss = Autograd ArrayBox with value 43.71145264722634\n",
            "--------------------------------------------------------------\n",
            "Iteration 4000\n",
            "diffeq = Autograd ArrayBox with value 9.973210219648635\n",
            "prob = Autograd ArrayBox with value 0.6486888867039746\n",
            "loss = Autograd ArrayBox with value 42.95052857893008\n",
            "--------------------------------------------------------------\n",
            "Iteration 4100\n",
            "diffeq = Autograd ArrayBox with value 9.453805699572545\n",
            "prob = Autograd ArrayBox with value 0.6603867584529345\n",
            "loss = Autograd ArrayBox with value 42.188906628750246\n",
            "--------------------------------------------------------------\n",
            "Iteration 4200\n",
            "diffeq = Autograd ArrayBox with value 8.986346689163984\n",
            "prob = Autograd ArrayBox with value 0.6730255633995591\n",
            "loss = Autograd ArrayBox with value 41.47605736723109\n",
            "--------------------------------------------------------------\n",
            "Iteration 4300\n",
            "diffeq = Autograd ArrayBox with value 8.607036845157378\n",
            "prob = Autograd ArrayBox with value 0.6860953949505258\n",
            "loss = Autograd ArrayBox with value 40.85985284221246\n",
            "--------------------------------------------------------------\n",
            "Iteration 4400\n",
            "diffeq = Autograd ArrayBox with value 8.329945025874519\n",
            "prob = Autograd ArrayBox with value 0.6988801858234168\n",
            "loss = Autograd ArrayBox with value 40.36672733691028\n",
            "--------------------------------------------------------------\n",
            "Iteration 4500\n",
            "diffeq = Autograd ArrayBox with value 8.142538495131108\n",
            "prob = Autograd ArrayBox with value 0.7106897866471491\n",
            "loss = Autograd ArrayBox with value 39.99284088734154\n",
            "--------------------------------------------------------------\n",
            "Iteration 4600\n",
            "diffeq = Autograd ArrayBox with value 8.015982243835076\n",
            "prob = Autograd ArrayBox with value 0.721073376535163\n",
            "loss = Autograd ArrayBox with value 39.71220417054046\n",
            "--------------------------------------------------------------\n",
            "Iteration 4700\n",
            "diffeq = Autograd ArrayBox with value 7.9210274322700345\n",
            "prob = Autograd ArrayBox with value 0.7298997491543675\n",
            "loss = Autograd ArrayBox with value 39.493245255933985\n",
            "--------------------------------------------------------------\n",
            "Iteration 4800\n",
            "diffeq = Autograd ArrayBox with value 7.837663271043524\n",
            "prob = Autograd ArrayBox with value 0.7372976964185534\n",
            "loss = Autograd ArrayBox with value 39.31070498456173\n",
            "--------------------------------------------------------------\n",
            "Iteration 4900\n",
            "diffeq = Autograd ArrayBox with value 7.755627221410547\n",
            "prob = Autograd ArrayBox with value 0.7435323740952025\n",
            "loss = Autograd ArrayBox with value 39.14835873282357\n",
            "--------------------------------------------------------------\n",
            "Iteration 5000\n",
            "diffeq = Autograd ArrayBox with value 7.670428288093578\n",
            "prob = Autograd ArrayBox with value 0.748893781844755\n",
            "loss = Autograd ArrayBox with value 38.996432073632775\n",
            "--------------------------------------------------------------\n",
            "Iteration 5100\n",
            "diffeq = Autograd ArrayBox with value 7.579510815465002\n",
            "prob = Autograd ArrayBox with value 0.7536326245238179\n",
            "loss = Autograd ArrayBox with value 38.84829400787525\n",
            "--------------------------------------------------------------\n",
            "Iteration 5200\n",
            "diffeq = Autograd ArrayBox with value 7.480009920159291\n",
            "prob = Autograd ArrayBox with value 0.7579434425067331\n",
            "loss = Autograd ArrayBox with value 38.69814778323352\n",
            "--------------------------------------------------------------\n",
            "Iteration 5300\n",
            "diffeq = Autograd ArrayBox with value 7.367394788270617\n",
            "prob = Autograd ArrayBox with value 0.7619770617143549\n",
            "loss = Autograd ArrayBox with value 38.53933759461775\n",
            "--------------------------------------------------------------\n",
            "Iteration 5400\n",
            "diffeq = Autograd ArrayBox with value 7.233870880011712\n",
            "prob = Autograd ArrayBox with value 0.7658634663407198\n",
            "loss = Autograd ArrayBox with value 38.362379230505674\n",
            "--------------------------------------------------------------\n",
            "Iteration 5500\n",
            "diffeq = Autograd ArrayBox with value 7.068463245305737\n",
            "prob = Autograd ArrayBox with value 0.7697197327125294\n",
            "loss = Autograd ArrayBox with value 38.1549008872835\n",
            "--------------------------------------------------------------\n",
            "Iteration 5600\n",
            "diffeq = Autograd ArrayBox with value 6.864858126553504\n",
            "prob = Autograd ArrayBox with value 0.7735795553992098\n",
            "loss = Autograd ArrayBox with value 37.91019568527692\n",
            "--------------------------------------------------------------\n",
            "Iteration 5700\n",
            "diffeq = Autograd ArrayBox with value 6.624598620482452\n",
            "prob = Autograd ArrayBox with value 0.7777250502100886\n",
            "loss = Autograd ArrayBox with value 37.62690232975627\n",
            "--------------------------------------------------------------\n",
            "Iteration 5800\n",
            "diffeq = Autograd ArrayBox with value 6.348539279120423\n",
            "prob = Autograd ArrayBox with value 0.7826304556035046\n",
            "loss = Autograd ArrayBox with value 37.30137939616125\n",
            "--------------------------------------------------------------\n",
            "Iteration 5900\n",
            "diffeq = Autograd ArrayBox with value 6.0318738056265255\n",
            "prob = Autograd ArrayBox with value 0.7886009108167662\n",
            "loss = Autograd ArrayBox with value 36.92660503584764\n",
            "--------------------------------------------------------------\n",
            "Iteration 6000\n",
            "diffeq = Autograd ArrayBox with value 5.657177843960951\n",
            "prob = Autograd ArrayBox with value 0.7960347665413052\n",
            "loss = Autograd ArrayBox with value 36.48269924927148\n",
            "--------------------------------------------------------------\n",
            "Iteration 6100\n",
            "diffeq = Autograd ArrayBox with value 5.153776633671362\n",
            "prob = Autograd ArrayBox with value 0.8043488291900354\n",
            "loss = Autograd ArrayBox with value 35.90591384408815\n",
            "--------------------------------------------------------------\n",
            "Iteration 6200\n",
            "diffeq = Autograd ArrayBox with value 4.62737257724597\n",
            "prob = Autograd ArrayBox with value 0.8144436511268238\n",
            "loss = Autograd ArrayBox with value 35.29593892543019\n",
            "--------------------------------------------------------------\n",
            "Iteration 6300\n",
            "diffeq = Autograd ArrayBox with value 4.120030994293862\n",
            "prob = Autograd ArrayBox with value 0.8273854264114426\n",
            "loss = Autograd ArrayBox with value 34.69000655033807\n",
            "--------------------------------------------------------------\n",
            "Iteration 6400\n",
            "diffeq = Autograd ArrayBox with value 3.642027779582413\n",
            "prob = Autograd ArrayBox with value 0.8425412544216039\n",
            "loss = Autograd ArrayBox with value 34.10822238763041\n",
            "--------------------------------------------------------------\n",
            "Iteration 6500\n",
            "diffeq = Autograd ArrayBox with value 3.235572485610041\n",
            "prob = Autograd ArrayBox with value 0.8587251320855286\n",
            "loss = Autograd ArrayBox with value 33.604162799454556\n",
            "--------------------------------------------------------------\n",
            "Iteration 6600\n",
            "diffeq = Autograd ArrayBox with value 2.9410044755413614\n",
            "prob = Autograd ArrayBox with value 0.8740771307827631\n",
            "loss = Autograd ArrayBox with value 33.22897494215408\n",
            "--------------------------------------------------------------\n",
            "Iteration 6700\n",
            "diffeq = Autograd ArrayBox with value 2.762035709161945\n",
            "prob = Autograd ArrayBox with value 0.8868673934537314\n",
            "loss = Autograd ArrayBox with value 32.9913098998715\n",
            "--------------------------------------------------------------\n",
            "Iteration 6800\n",
            "diffeq = Autograd ArrayBox with value 2.6640092924747267\n",
            "prob = Autograd ArrayBox with value 0.8963063014581363\n",
            "loss = Autograd ArrayBox with value 32.85470657444744\n",
            "--------------------------------------------------------------\n",
            "Iteration 6900\n",
            "diffeq = Autograd ArrayBox with value 2.6075173500872766\n",
            "prob = Autograd ArrayBox with value 0.9026718305528922\n",
            "loss = Autograd ArrayBox with value 32.774402355661124\n",
            "--------------------------------------------------------------\n",
            "Iteration 7000\n",
            "diffeq = Autograd ArrayBox with value 2.5661383353373752\n",
            "prob = Autograd ArrayBox with value 0.9068490531010555\n",
            "loss = Autograd ArrayBox with value 32.71834150749606\n",
            "--------------------------------------------------------------\n",
            "Iteration 7100\n",
            "diffeq = Autograd ArrayBox with value 2.529775466929325\n",
            "prob = Autograd ArrayBox with value 0.9097782432788213\n",
            "loss = Autograd ArrayBox with value 32.672123390891755\n",
            "--------------------------------------------------------------\n",
            "Iteration 7200\n",
            "diffeq = Autograd ArrayBox with value 2.493586102599681\n",
            "prob = Autograd ArrayBox with value 0.9118242155255377\n",
            "loss = Autograd ArrayBox with value 32.629263503340454\n",
            "--------------------------------------------------------------\n",
            "Iteration 7300\n",
            "diffeq = Autograd ArrayBox with value 2.458453354862786\n",
            "prob = Autograd ArrayBox with value 0.9126628415052376\n",
            "loss = Autograd ArrayBox with value 32.591446913905\n",
            "--------------------------------------------------------------\n",
            "Iteration 7400\n",
            "diffeq = Autograd ArrayBox with value 2.415393503758063\n",
            "prob = Autograd ArrayBox with value 0.9150551666016403\n",
            "loss = Autograd ArrayBox with value 32.540890926961396\n",
            "--------------------------------------------------------------\n",
            "Iteration 7500\n",
            "diffeq = Autograd ArrayBox with value 2.3697640828164235\n",
            "prob = Autograd ArrayBox with value 0.9164773632263151\n",
            "loss = Autograd ArrayBox with value 32.49091692479833\n",
            "--------------------------------------------------------------\n",
            "Iteration 7600\n",
            "diffeq = Autograd ArrayBox with value 2.3174490763393525\n",
            "prob = Autograd ArrayBox with value 0.9178198322254596\n",
            "loss = Autograd ArrayBox with value 32.434576932479814\n",
            "--------------------------------------------------------------\n",
            "Iteration 7700\n",
            "diffeq = Autograd ArrayBox with value 2.25613915410095\n",
            "prob = Autograd ArrayBox with value 0.9194084695281197\n",
            "loss = Autograd ArrayBox with value 32.36859893492485\n",
            "--------------------------------------------------------------\n",
            "Iteration 7800\n",
            "diffeq = Autograd ArrayBox with value 2.1806010989186477\n",
            "prob = Autograd ArrayBox with value 0.921075462146531\n",
            "loss = Autograd ArrayBox with value 32.28827272780301\n",
            "--------------------------------------------------------------\n",
            "Iteration 7900\n",
            "diffeq = Autograd ArrayBox with value 2.096642524515228\n",
            "prob = Autograd ArrayBox with value 0.9243246619946204\n",
            "loss = Autograd ArrayBox with value 32.1953034582868\n",
            "--------------------------------------------------------------\n",
            "Iteration 8000\n",
            "diffeq = Autograd ArrayBox with value 1.9774711798612898\n",
            "prob = Autograd ArrayBox with value 0.9253490754797055\n",
            "loss = Autograd ArrayBox with value 32.07337893957448\n",
            "--------------------------------------------------------------\n",
            "Iteration 8100\n",
            "diffeq = Autograd ArrayBox with value 1.8499402857582412\n",
            "prob = Autograd ArrayBox with value 0.928048321091824\n",
            "loss = Autograd ArrayBox with value 31.9387936425012\n",
            "--------------------------------------------------------------\n",
            "Iteration 8200\n",
            "diffeq = Autograd ArrayBox with value 1.7120562317896202\n",
            "prob = Autograd ArrayBox with value 0.9311195723629047\n",
            "loss = Autograd ArrayBox with value 31.793233140879686\n",
            "--------------------------------------------------------------\n",
            "Iteration 8300\n",
            "diffeq = Autograd ArrayBox with value 1.573704733201923\n",
            "prob = Autograd ArrayBox with value 0.9342580288299152\n",
            "loss = Autograd ArrayBox with value 31.647418813256245\n",
            "--------------------------------------------------------------\n",
            "Iteration 8400\n",
            "diffeq = Autograd ArrayBox with value 1.4352119705960482\n",
            "prob = Autograd ArrayBox with value 0.9371737562149315\n",
            "loss = Autograd ArrayBox with value 31.502335282924676\n",
            "--------------------------------------------------------------\n",
            "Iteration 8500\n",
            "diffeq = Autograd ArrayBox with value 1.312888390459687\n",
            "prob = Autograd ArrayBox with value 0.9414235341459857\n",
            "loss = Autograd ArrayBox with value 31.370990029031276\n",
            "--------------------------------------------------------------\n",
            "Iteration 8600\n",
            "diffeq = Autograd ArrayBox with value 1.1729772520882844\n",
            "prob = Autograd ArrayBox with value 0.9418884691096665\n",
            "loss = Autograd ArrayBox with value 31.23013365901833\n",
            "--------------------------------------------------------------\n",
            "Iteration 8700\n",
            "diffeq = Autograd ArrayBox with value 1.067320791064175\n",
            "prob = Autograd ArrayBox with value 0.9440932952128209\n",
            "loss = Autograd ArrayBox with value 31.12010605577813\n",
            "--------------------------------------------------------------\n",
            "Iteration 8800\n",
            "diffeq = Autograd ArrayBox with value 0.9837900857693269\n",
            "prob = Autograd ArrayBox with value 0.946316366124268\n",
            "loss = Autograd ArrayBox with value 31.03235334618742\n",
            "--------------------------------------------------------------\n",
            "Iteration 8900\n",
            "diffeq = Autograd ArrayBox with value 0.9145443327805584\n",
            "prob = Autograd ArrayBox with value 0.9485215113011873\n",
            "loss = Autograd ArrayBox with value 30.95910224368656\n",
            "--------------------------------------------------------------\n",
            "Iteration 9000\n",
            "diffeq = Autograd ArrayBox with value 0.8528891223999835\n",
            "prob = Autograd ArrayBox with value 0.9504786266473755\n",
            "loss = Autograd ArrayBox with value 30.89404356506708\n",
            "--------------------------------------------------------------\n",
            "Iteration 9100\n",
            "diffeq = Autograd ArrayBox with value 0.797288123912938\n",
            "prob = Autograd ArrayBox with value 0.9520432262686711\n",
            "loss = Autograd ArrayBox with value 30.835823496936133\n",
            "--------------------------------------------------------------\n",
            "Iteration 9200\n",
            "diffeq = Autograd ArrayBox with value 0.7436190064818243\n",
            "prob = Autograd ArrayBox with value 0.9548694490083105\n",
            "loss = Autograd ArrayBox with value 30.777651245923966\n",
            "--------------------------------------------------------------\n",
            "Iteration 9300\n",
            "diffeq = Autograd ArrayBox with value 0.6935635121886162\n",
            "prob = Autograd ArrayBox with value 0.9568410134132613\n",
            "loss = Autograd ArrayBox with value 30.72462695678509\n",
            "--------------------------------------------------------------\n",
            "Iteration 9400\n",
            "diffeq = Autograd ArrayBox with value 0.6459332340216666\n",
            "prob = Autograd ArrayBox with value 0.9588239983757108\n",
            "loss = Autograd ArrayBox with value 30.674152800292738\n",
            "--------------------------------------------------------------\n",
            "Iteration 9500\n",
            "diffeq = Autograd ArrayBox with value 0.6056202850823209\n",
            "prob = Autograd ArrayBox with value 0.9610547362421964\n",
            "loss = Autograd ArrayBox with value 30.630809971584874\n",
            "--------------------------------------------------------------\n",
            "Iteration 9600\n",
            "diffeq = Autograd ArrayBox with value 0.5902829099502376\n",
            "prob = Autograd ArrayBox with value 0.9610021890853533\n",
            "loss = Autograd ArrayBox with value 30.615541914936994\n",
            "--------------------------------------------------------------\n",
            "Iteration 9700\n",
            "diffeq = Autograd ArrayBox with value 0.519144390729442\n",
            "prob = Autograd ArrayBox with value 0.9646887674006001\n",
            "loss = Autograd ArrayBox with value 30.539779130196564\n",
            "--------------------------------------------------------------\n",
            "Iteration 9800\n",
            "diffeq = Autograd ArrayBox with value 0.4846328409507666\n",
            "prob = Autograd ArrayBox with value 0.9675192658810187\n",
            "loss = Autograd ArrayBox with value 30.50204407285504\n",
            "--------------------------------------------------------------\n",
            "Iteration 9900\n",
            "diffeq = Autograd ArrayBox with value 0.4451019895121264\n",
            "prob = Autograd ArrayBox with value 0.968391241627862\n",
            "loss = Autograd ArrayBox with value 30.4615769804733\n",
            "--------------------------------------------------------------\n",
            "Iteration 10000\n",
            "diffeq = Autograd ArrayBox with value 0.41574227946674447\n",
            "prob = Autograd ArrayBox with value 0.9694436473405227\n",
            "loss = Autograd ArrayBox with value 30.43112277204574\n",
            "--------------------------------------------------------------\n",
            "Iteration 10100\n",
            "diffeq = Autograd ArrayBox with value 0.38468672816740707\n",
            "prob = Autograd ArrayBox with value 0.9720244399539162\n",
            "loss = Autograd ArrayBox with value 30.39754671015662\n",
            "--------------------------------------------------------------\n",
            "Iteration 10200\n",
            "diffeq = Autograd ArrayBox with value 0.39020412300154217\n",
            "prob = Autograd ArrayBox with value 0.9748263395532523\n",
            "loss = Autograd ArrayBox with value 30.40058900653765\n",
            "--------------------------------------------------------------\n",
            "Iteration 10300\n",
            "diffeq = Autograd ArrayBox with value 0.3337141480417625\n",
            "prob = Autograd ArrayBox with value 0.9749738591381492\n",
            "loss = Autograd ArrayBox with value 30.34397621759761\n",
            "--------------------------------------------------------------\n",
            "Iteration 10400\n",
            "diffeq = Autograd ArrayBox with value 0.3166829424158626\n",
            "prob = Autograd ArrayBox with value 0.9768732585711466\n",
            "loss = Autograd ArrayBox with value 30.325430412347952\n",
            "--------------------------------------------------------------\n",
            "Iteration 10500\n",
            "diffeq = Autograd ArrayBox with value 0.2924807450116585\n",
            "prob = Autograd ArrayBox with value 0.9776100760717557\n",
            "loss = Autograd ArrayBox with value 30.300673904051994\n",
            "--------------------------------------------------------------\n",
            "Iteration 10600\n",
            "diffeq = Autograd ArrayBox with value 0.27444678886609375\n",
            "prob = Autograd ArrayBox with value 0.9788028822069209\n",
            "loss = Autograd ArrayBox with value 30.281781831224325\n",
            "--------------------------------------------------------------\n",
            "Iteration 10700\n",
            "diffeq = Autograd ArrayBox with value 0.2599141778969136\n",
            "prob = Autograd ArrayBox with value 0.97927857440056\n",
            "loss = Autograd ArrayBox with value 30.266920501253562\n",
            "--------------------------------------------------------------\n",
            "Iteration 10800\n",
            "diffeq = Autograd ArrayBox with value 0.24612725822884585\n",
            "prob = Autograd ArrayBox with value 0.9815824718468089\n",
            "loss = Autograd ArrayBox with value 30.251650011867895\n",
            "--------------------------------------------------------------\n",
            "Iteration 10900\n",
            "diffeq = Autograd ArrayBox with value 0.24202335318306298\n",
            "prob = Autograd ArrayBox with value 0.9818794939760728\n",
            "loss = Autograd ArrayBox with value 30.247367892845443\n",
            "--------------------------------------------------------------\n",
            "Iteration 11000\n",
            "diffeq = Autograd ArrayBox with value 0.21430596115495779\n",
            "prob = Autograd ArrayBox with value 0.9826746025270019\n",
            "loss = Autograd ArrayBox with value 30.21918805518191\n",
            "--------------------------------------------------------------\n",
            "Iteration 11100\n",
            "diffeq = Autograd ArrayBox with value 0.20162785277980533\n",
            "prob = Autograd ArrayBox with value 0.9836361967649471\n",
            "loss = Autograd ArrayBox with value 30.205979058147356\n",
            "--------------------------------------------------------------\n",
            "Iteration 11200\n",
            "diffeq = Autograd ArrayBox with value 0.18907941834657246\n",
            "prob = Autograd ArrayBox with value 0.9844085686472807\n",
            "loss = Autograd ArrayBox with value 30.193026654957617\n",
            "--------------------------------------------------------------\n",
            "Iteration 11300\n",
            "diffeq = Autograd ArrayBox with value 0.1778827348900852\n",
            "prob = Autograd ArrayBox with value 0.9852864399681666\n",
            "loss = Autograd ArrayBox with value 30.181395049805744\n",
            "--------------------------------------------------------------\n",
            "Iteration 11400\n",
            "diffeq = Autograd ArrayBox with value 0.16972323550392518\n",
            "prob = Autograd ArrayBox with value 0.9865389042582833\n",
            "loss = Autograd ArrayBox with value 30.172659539788775\n",
            "--------------------------------------------------------------\n",
            "Iteration 11500\n",
            "diffeq = Autograd ArrayBox with value 0.1565340276441733\n",
            "prob = Autograd ArrayBox with value 0.9869401793707326\n",
            "loss = Autograd ArrayBox with value 30.159296824443874\n",
            "--------------------------------------------------------------\n",
            "Iteration 11600\n",
            "diffeq = Autograd ArrayBox with value 0.14946493631526475\n",
            "prob = Autograd ArrayBox with value 0.9874942639746391\n",
            "loss = Autograd ArrayBox with value 30.151996940006622\n",
            "--------------------------------------------------------------\n",
            "Iteration 11700\n",
            "diffeq = Autograd ArrayBox with value 0.13626059111229935\n",
            "prob = Autograd ArrayBox with value 0.9883309033305956\n",
            "loss = Autograd ArrayBox with value 30.138463391925793\n",
            "--------------------------------------------------------------\n",
            "Iteration 11800\n",
            "diffeq = Autograd ArrayBox with value 0.12705495414455753\n",
            "prob = Autograd ArrayBox with value 0.9888918132836697\n",
            "loss = Autograd ArrayBox with value 30.12905001397639\n",
            "--------------------------------------------------------------\n",
            "Iteration 11900\n",
            "diffeq = Autograd ArrayBox with value 0.11850111416903239\n",
            "prob = Autograd ArrayBox with value 0.9896632907413968\n",
            "loss = Autograd ArrayBox with value 30.120227414918574\n",
            "--------------------------------------------------------------\n",
            "Iteration 12000\n",
            "diffeq = Autograd ArrayBox with value 0.10976164879779378\n",
            "prob = Autograd ArrayBox with value 0.9902342157428852\n",
            "loss = Autograd ArrayBox with value 30.111301685773007\n",
            "--------------------------------------------------------------\n",
            "Iteration 12100\n",
            "diffeq = Autograd ArrayBox with value 0.10234899376899013\n",
            "prob = Autograd ArrayBox with value 0.9908653040450547\n",
            "loss = Autograd ArrayBox with value 30.10369561524636\n",
            "--------------------------------------------------------------\n",
            "Iteration 12200\n",
            "diffeq = Autograd ArrayBox with value 0.10318192718304135\n",
            "prob = Autograd ArrayBox with value 0.9920406567159004\n",
            "loss = Autograd ArrayBox with value 30.104203169697502\n",
            "--------------------------------------------------------------\n",
            "Iteration 12300\n",
            "diffeq = Autograd ArrayBox with value 0.08701207173791638\n",
            "prob = Autograd ArrayBox with value 0.9918787842559411\n",
            "loss = Autograd ArrayBox with value 30.088075438261612\n",
            "--------------------------------------------------------------\n",
            "Iteration 12400\n",
            "diffeq = Autograd ArrayBox with value 0.08229529346353351\n",
            "prob = Autograd ArrayBox with value 0.992001346558518\n",
            "loss = Autograd ArrayBox with value 30.08332668678984\n",
            "--------------------------------------------------------------\n",
            "Iteration 12500\n",
            "diffeq = Autograd ArrayBox with value 0.07595607882689134\n",
            "prob = Autograd ArrayBox with value 0.9926806325772417\n",
            "loss = Autograd ArrayBox with value 30.076819174249426\n",
            "--------------------------------------------------------------\n",
            "Iteration 12600\n",
            "diffeq = Autograd ArrayBox with value 0.06730254321256038\n",
            "prob = Autograd ArrayBox with value 0.9932486125753197\n",
            "loss = Autograd ArrayBox with value 30.06803649035202\n",
            "--------------------------------------------------------------\n",
            "Iteration 12700\n",
            "diffeq = Autograd ArrayBox with value 0.0628352121400263\n",
            "prob = Autograd ArrayBox with value 0.9939222576368045\n",
            "loss = Autograd ArrayBox with value 30.063429623549734\n",
            "--------------------------------------------------------------\n",
            "Iteration 12800\n",
            "diffeq = Autograd ArrayBox with value 0.0571471738858742\n",
            "prob = Autograd ArrayBox with value 0.9939851223710467\n",
            "loss = Autograd ArrayBox with value 30.057729317846047\n",
            "--------------------------------------------------------------\n",
            "Iteration 12900\n",
            "diffeq = Autograd ArrayBox with value 0.051733625857767356\n",
            "prob = Autograd ArrayBox with value 0.9947414317370864\n",
            "loss = Autograd ArrayBox with value 30.05217825922271\n",
            "--------------------------------------------------------------\n",
            "Iteration 13000\n",
            "diffeq = Autograd ArrayBox with value 0.045811341807125434\n",
            "prob = Autograd ArrayBox with value 0.9948803577026473\n",
            "loss = Autograd ArrayBox with value 30.046232736805226\n",
            "--------------------------------------------------------------\n",
            "Iteration 13100\n",
            "diffeq = Autograd ArrayBox with value 0.04338709317187897\n",
            "prob = Autograd ArrayBox with value 0.9954933046900413\n",
            "loss = Autograd ArrayBox with value 30.04371343721457\n",
            "--------------------------------------------------------------\n",
            "Iteration 13200\n",
            "diffeq = Autograd ArrayBox with value 0.03689761848264849\n",
            "prob = Autograd ArrayBox with value 0.9957528805071074\n",
            "loss = Autograd ArrayBox with value 30.037187380912464\n",
            "--------------------------------------------------------------\n",
            "Iteration 13300\n",
            "diffeq = Autograd ArrayBox with value 0.03320472342323075\n",
            "prob = Autograd ArrayBox with value 0.9961969978285408\n",
            "loss = Autograd ArrayBox with value 30.03343695681342\n",
            "--------------------------------------------------------------\n",
            "Iteration 13400\n",
            "diffeq = Autograd ArrayBox with value 0.02975400736693042\n",
            "prob = Autograd ArrayBox with value 0.9965035217195141\n",
            "loss = Autograd ArrayBox with value 30.02995025656815\n",
            "--------------------------------------------------------------\n",
            "Iteration 13500\n",
            "diffeq = Autograd ArrayBox with value 0.028118930930137852\n",
            "prob = Autograd ArrayBox with value 0.9968773447442671\n",
            "loss = Autograd ArrayBox with value 30.028275404708406\n",
            "--------------------------------------------------------------\n",
            "Iteration 13600\n",
            "diffeq = Autograd ArrayBox with value 0.025438037504764345\n",
            "prob = Autograd ArrayBox with value 0.9969916869287907\n",
            "loss = Autograd ArrayBox with value 30.025583246273676\n",
            "--------------------------------------------------------------\n",
            "Iteration 13700\n",
            "diffeq = Autograd ArrayBox with value 0.03535456558848976\n",
            "prob = Autograd ArrayBox with value 0.9978483483715751\n",
            "loss = Autograd ArrayBox with value 30.03542878900581\n",
            "--------------------------------------------------------------\n",
            "Iteration 13800\n",
            "diffeq = Autograd ArrayBox with value 0.026504441247135118\n",
            "prob = Autograd ArrayBox with value 0.9973409526847654\n",
            "loss = Autograd ArrayBox with value 30.026617852534226\n",
            "--------------------------------------------------------------\n",
            "Iteration 13900\n",
            "diffeq = Autograd ArrayBox with value 0.018375074548213542\n",
            "prob = Autograd ArrayBox with value 0.9978450336519697\n",
            "loss = Autograd ArrayBox with value 30.018449527062852\n",
            "--------------------------------------------------------------\n",
            "Iteration 14000\n",
            "diffeq = Autograd ArrayBox with value 0.017631545395846018\n",
            "prob = Autograd ArrayBox with value 0.9980844529920585\n",
            "loss = Autograd ArrayBox with value 30.017690360154962\n",
            "--------------------------------------------------------------\n",
            "Iteration 14100\n",
            "diffeq = Autograd ArrayBox with value 0.015199815922210713\n",
            "prob = Autograd ArrayBox with value 0.9982877013203065\n",
            "loss = Autograd ArrayBox with value 30.015246802825715\n",
            "--------------------------------------------------------------\n",
            "Iteration 14200\n",
            "diffeq = Autograd ArrayBox with value 0.014613883463538186\n",
            "prob = Autograd ArrayBox with value 0.9983977550954783\n",
            "loss = Autograd ArrayBox with value 30.014655020281275\n",
            "--------------------------------------------------------------\n",
            "Iteration 14300\n",
            "diffeq = Autograd ArrayBox with value 0.0130651869450148\n",
            "prob = Autograd ArrayBox with value 0.9985985917915489\n",
            "loss = Autograd ArrayBox with value 30.013096651406748\n",
            "--------------------------------------------------------------\n",
            "Iteration 14400\n",
            "diffeq = Autograd ArrayBox with value 0.012523927629179503\n",
            "prob = Autograd ArrayBox with value 0.9985303170378851\n",
            "loss = Autograd ArrayBox with value 30.012558534804434\n",
            "--------------------------------------------------------------\n",
            "Iteration 14500\n",
            "diffeq = Autograd ArrayBox with value 0.050970650693575634\n",
            "prob = Autograd ArrayBox with value 0.9985300313602011\n",
            "loss = Autograd ArrayBox with value 30.05100527133334\n",
            "--------------------------------------------------------------\n",
            "Iteration 14600\n",
            "diffeq = Autograd ArrayBox with value 0.12559730451632853\n",
            "prob = Autograd ArrayBox with value 0.9971915189603526\n",
            "loss = Autograd ArrayBox with value 30.125723838785348\n",
            "--------------------------------------------------------------\n",
            "Iteration 14700\n",
            "diffeq = Autograd ArrayBox with value 0.009773208781840655\n",
            "prob = Autograd ArrayBox with value 0.9989213959779817\n",
            "loss = Autograd ArrayBox with value 30.00979184181085\n",
            "--------------------------------------------------------------\n",
            "Iteration 14800\n",
            "diffeq = Autograd ArrayBox with value 0.010195688547469911\n",
            "prob = Autograd ArrayBox with value 0.998903019722759\n",
            "loss = Autograd ArrayBox with value 30.0102149622219\n",
            "--------------------------------------------------------------\n",
            "Iteration 14900\n",
            "diffeq = Autograd ArrayBox with value 0.008540285665778791\n",
            "prob = Autograd ArrayBox with value 0.9990160781760877\n",
            "loss = Autograd ArrayBox with value 30.008555789602394\n",
            "--------------------------------------------------------------\n",
            "Iteration 15000\n",
            "diffeq = Autograd ArrayBox with value 0.00808150486536739\n",
            "prob = Autograd ArrayBox with value 0.9990452655265118\n",
            "loss = Autograd ArrayBox with value 30.008096102218346\n",
            "--------------------------------------------------------------\n",
            "Iteration 15100\n",
            "diffeq = Autograd ArrayBox with value 0.01613981621184985\n",
            "prob = Autograd ArrayBox with value 0.998706791444163\n",
            "loss = Autograd ArrayBox with value 30.016166606908964\n",
            "--------------------------------------------------------------\n",
            "Iteration 15200\n",
            "diffeq = Autograd ArrayBox with value 0.007039072786013948\n",
            "prob = Autograd ArrayBox with value 0.9991238612379898\n",
            "loss = Autograd ArrayBox with value 30.00705136478906\n",
            "--------------------------------------------------------------\n",
            "Iteration 15300\n",
            "diffeq = Autograd ArrayBox with value 0.007033974788106003\n",
            "prob = Autograd ArrayBox with value 0.9992563878182604\n",
            "loss = Autograd ArrayBox with value 30.00704282830573\n",
            "--------------------------------------------------------------\n",
            "Iteration 15400\n",
            "diffeq = Autograd ArrayBox with value 0.006230623971084566\n",
            "prob = Autograd ArrayBox with value 0.9991744989187209\n",
            "loss = Autograd ArrayBox with value 30.006241535648712\n",
            "--------------------------------------------------------------\n",
            "Iteration 15500\n",
            "diffeq = Autograd ArrayBox with value 0.006124894644945919\n",
            "prob = Autograd ArrayBox with value 0.9992023878388541\n",
            "loss = Autograd ArrayBox with value 30.00613508122501\n",
            "--------------------------------------------------------------\n",
            "Iteration 15600\n",
            "diffeq = Autograd ArrayBox with value 0.00568571925750115\n",
            "prob = Autograd ArrayBox with value 0.9992672241064049\n",
            "loss = Autograd ArrayBox with value 30.00569431653207\n",
            "--------------------------------------------------------------\n",
            "Iteration 15700\n",
            "diffeq = Autograd ArrayBox with value 0.007476073923953579\n",
            "prob = Autograd ArrayBox with value 0.9991185514043133\n",
            "loss = Autograd ArrayBox with value 30.00748851543169\n",
            "--------------------------------------------------------------\n",
            "Iteration 15800\n",
            "diffeq = Autograd ArrayBox with value 0.005271073499975279\n",
            "prob = Autograd ArrayBox with value 0.9993586793812395\n",
            "loss = Autograd ArrayBox with value 30.00527765813324\n",
            "--------------------------------------------------------------\n",
            "Iteration 15900\n",
            "diffeq = Autograd ArrayBox with value 0.005810370227030899\n",
            "prob = Autograd ArrayBox with value 0.9990697129950011\n",
            "loss = Autograd ArrayBox with value 30.005824229257392\n",
            "--------------------------------------------------------------\n",
            "Iteration 16000\n",
            "diffeq = Autograd ArrayBox with value 0.0046512076353401755\n",
            "prob = Autograd ArrayBox with value 0.9992371269875349\n",
            "loss = Autograd ArrayBox with value 30.004660525903756\n",
            "--------------------------------------------------------------\n",
            "Iteration 16100\n",
            "diffeq = Autograd ArrayBox with value 0.004459266921880473\n",
            "prob = Autograd ArrayBox with value 0.999271921914196\n",
            "loss = Autograd ArrayBox with value 30.00446775427857\n",
            "--------------------------------------------------------------\n",
            "Iteration 16200\n",
            "diffeq = Autograd ArrayBox with value 0.00431681363656523\n",
            "prob = Autograd ArrayBox with value 0.9992965451809799\n",
            "loss = Autograd ArrayBox with value 30.004324736440715\n",
            "--------------------------------------------------------------\n",
            "Iteration 16300\n",
            "diffeq = Autograd ArrayBox with value 0.004222231621862725\n",
            "prob = Autograd ArrayBox with value 0.9992926417685952\n",
            "loss = Autograd ArrayBox with value 30.004230242625265\n",
            "--------------------------------------------------------------\n",
            "Iteration 16400\n",
            "diffeq = Autograd ArrayBox with value 0.004100812329191933\n",
            "prob = Autograd ArrayBox with value 0.999300037557024\n",
            "loss = Autograd ArrayBox with value 30.00410865663571\n",
            "--------------------------------------------------------------\n",
            "Iteration 16500\n",
            "diffeq = Autograd ArrayBox with value 0.0041456835484178795\n",
            "prob = Autograd ArrayBox with value 0.9992306492287604\n",
            "loss = Autograd ArrayBox with value 30.004155160794113\n",
            "--------------------------------------------------------------\n",
            "Iteration 16600\n",
            "diffeq = Autograd ArrayBox with value 0.003907801292258007\n",
            "prob = Autograd ArrayBox with value 0.9992848661118535\n",
            "loss = Autograd ArrayBox with value 30.003915989445797\n",
            "--------------------------------------------------------------\n",
            "Iteration 16700\n",
            "diffeq = Autograd ArrayBox with value 0.012380294938025858\n",
            "prob = Autograd ArrayBox with value 0.9994043716661447\n",
            "loss = Autograd ArrayBox with value 30.0123859744794\n",
            "--------------------------------------------------------------\n",
            "Iteration 16800\n",
            "diffeq = Autograd ArrayBox with value 0.023127272874963245\n",
            "prob = Autograd ArrayBox with value 0.9996192815076129\n",
            "loss = Autograd ArrayBox with value 30.023129592848164\n",
            "--------------------------------------------------------------\n",
            "Iteration 16900\n",
            "diffeq = Autograd ArrayBox with value 0.003979800899200475\n",
            "prob = Autograd ArrayBox with value 0.9992134202454139\n",
            "loss = Autograd ArrayBox with value 30.003989707528255\n",
            "--------------------------------------------------------------\n",
            "Iteration 17000\n",
            "diffeq = Autograd ArrayBox with value 0.0036906905749120476\n",
            "prob = Autograd ArrayBox with value 0.9992851274676384\n",
            "loss = Autograd ArrayBox with value 30.00369887274259\n",
            "--------------------------------------------------------------\n",
            "Iteration 17100\n",
            "diffeq = Autograd ArrayBox with value 0.022773600695095694\n",
            "prob = Autograd ArrayBox with value 0.9995549406412652\n",
            "loss = Autograd ArrayBox with value 30.022776771263356\n",
            "--------------------------------------------------------------\n",
            "Iteration 17200\n",
            "diffeq = Autograd ArrayBox with value 0.003785253247739133\n",
            "prob = Autograd ArrayBox with value 0.9994249715492594\n",
            "loss = Autograd ArrayBox with value 30.003790546624952\n",
            "--------------------------------------------------------------\n",
            "Iteration 17300\n",
            "diffeq = Autograd ArrayBox with value 0.04590350196699231\n",
            "prob = Autograd ArrayBox with value 0.9991531143319309\n",
            "loss = Autograd ArrayBox with value 30.04591498653106\n",
            "--------------------------------------------------------------\n"
          ],
          "name": "stdout"
        },
        {
          "output_type": "error",
          "ename": "KeyboardInterrupt",
          "evalue": "ignored",
          "traceback": [
            "\u001b[0;31m---------------------------------------------------------------------------\u001b[0m",
            "\u001b[0;31mKeyboardInterrupt\u001b[0m                         Traceback (most recent call last)",
            "\u001b[0;32m<ipython-input-69-22f0f93eb7bb>\u001b[0m in \u001b[0;36m<module>\u001b[0;34m()\u001b[0m\n\u001b[1;32m      1\u001b[0m \u001b[0moptims\u001b[0m \u001b[0;34m=\u001b[0m \u001b[0mimportlib\u001b[0m\u001b[0;34m.\u001b[0m\u001b[0mreload\u001b[0m\u001b[0;34m(\u001b[0m\u001b[0moptims\u001b[0m\u001b[0;34m)\u001b[0m\u001b[0;34m\u001b[0m\u001b[0;34m\u001b[0m\u001b[0m\n\u001b[1;32m      2\u001b[0m \u001b[0;34m\u001b[0m\u001b[0m\n\u001b[0;32m----> 3\u001b[0;31m \u001b[0mparams\u001b[0m \u001b[0;34m=\u001b[0m \u001b[0moptims\u001b[0m\u001b[0;34m.\u001b[0m\u001b[0madam\u001b[0m \u001b[0;34m(\u001b[0m\u001b[0mgrad\u001b[0m\u001b[0;34m(\u001b[0m\u001b[0mobjective\u001b[0m\u001b[0;34m)\u001b[0m\u001b[0;34m,\u001b[0m \u001b[0mparams\u001b[0m\u001b[0;34m,\u001b[0m \u001b[0mstep_size\u001b[0m\u001b[0;34m=\u001b[0m\u001b[0;36m0.001\u001b[0m\u001b[0;34m,\u001b[0m \u001b[0mnum_iters\u001b[0m\u001b[0;34m=\u001b[0m\u001b[0;36m100000\u001b[0m\u001b[0;34m)\u001b[0m\u001b[0;34m\u001b[0m\u001b[0;34m\u001b[0m\u001b[0m\n\u001b[0m\u001b[1;32m      4\u001b[0m \u001b[0;31m#params = optims.sgd(grad(objective), params)\u001b[0m\u001b[0;34m\u001b[0m\u001b[0;34m\u001b[0m\u001b[0;34m\u001b[0m\u001b[0m\n\u001b[1;32m      5\u001b[0m ''' {'params': model.base.parameters()},\n",
            "\u001b[0;32m/content/myOptimizers.py\u001b[0m in \u001b[0;36m_optimize\u001b[0;34m(grad, x0, callback, *args, **kwargs)\u001b[0m\n\u001b[1;32m     26\u001b[0m         \u001b[0;32melse\u001b[0m\u001b[0;34m:\u001b[0m\u001b[0;34m\u001b[0m\u001b[0;34m\u001b[0m\u001b[0m\n\u001b[1;32m     27\u001b[0m             \u001b[0m_callback\u001b[0m \u001b[0;34m=\u001b[0m \u001b[0;32mNone\u001b[0m\u001b[0;34m\u001b[0m\u001b[0;34m\u001b[0m\u001b[0m\n\u001b[0;32m---> 28\u001b[0;31m         \u001b[0;32mreturn\u001b[0m \u001b[0munflatten\u001b[0m\u001b[0;34m(\u001b[0m\u001b[0moptimize\u001b[0m\u001b[0;34m(\u001b[0m\u001b[0m_grad\u001b[0m\u001b[0;34m,\u001b[0m \u001b[0m_x0\u001b[0m\u001b[0;34m,\u001b[0m \u001b[0m_callback\u001b[0m\u001b[0;34m,\u001b[0m \u001b[0;34m*\u001b[0m\u001b[0margs\u001b[0m\u001b[0;34m,\u001b[0m \u001b[0;34m**\u001b[0m\u001b[0mkwargs\u001b[0m\u001b[0;34m)\u001b[0m\u001b[0;34m)\u001b[0m\u001b[0;34m\u001b[0m\u001b[0;34m\u001b[0m\u001b[0m\n\u001b[0m\u001b[1;32m     29\u001b[0m \u001b[0;34m\u001b[0m\u001b[0m\n\u001b[1;32m     30\u001b[0m     \u001b[0;32mreturn\u001b[0m \u001b[0m_optimize\u001b[0m\u001b[0;34m\u001b[0m\u001b[0;34m\u001b[0m\u001b[0m\n",
            "\u001b[0;32m/content/myOptimizers.py\u001b[0m in \u001b[0;36madam\u001b[0;34m(grad, x, callback, num_iters, step_size, b1, b2, eps)\u001b[0m\n\u001b[1;32m     62\u001b[0m     \u001b[0mv\u001b[0m \u001b[0;34m=\u001b[0m \u001b[0mnp\u001b[0m\u001b[0;34m.\u001b[0m\u001b[0mzeros\u001b[0m\u001b[0;34m(\u001b[0m\u001b[0mlen\u001b[0m\u001b[0;34m(\u001b[0m\u001b[0mx\u001b[0m\u001b[0;34m)\u001b[0m\u001b[0;34m)\u001b[0m\u001b[0;34m\u001b[0m\u001b[0;34m\u001b[0m\u001b[0m\n\u001b[1;32m     63\u001b[0m     \u001b[0;32mfor\u001b[0m \u001b[0mi\u001b[0m \u001b[0;32min\u001b[0m \u001b[0mrange\u001b[0m\u001b[0;34m(\u001b[0m\u001b[0mnum_iters\u001b[0m\u001b[0;34m)\u001b[0m\u001b[0;34m:\u001b[0m\u001b[0;34m\u001b[0m\u001b[0;34m\u001b[0m\u001b[0m\n\u001b[0;32m---> 64\u001b[0;31m         \u001b[0mg\u001b[0m \u001b[0;34m=\u001b[0m \u001b[0mgrad\u001b[0m\u001b[0;34m(\u001b[0m\u001b[0mx\u001b[0m\u001b[0;34m,\u001b[0m \u001b[0mi\u001b[0m\u001b[0;34m)\u001b[0m\u001b[0;34m\u001b[0m\u001b[0;34m\u001b[0m\u001b[0m\n\u001b[0m\u001b[1;32m     65\u001b[0m         \u001b[0;32mif\u001b[0m \u001b[0mcallback\u001b[0m\u001b[0;34m:\u001b[0m \u001b[0mcallback\u001b[0m\u001b[0;34m(\u001b[0m\u001b[0mx\u001b[0m\u001b[0;34m,\u001b[0m \u001b[0mi\u001b[0m\u001b[0;34m,\u001b[0m \u001b[0mg\u001b[0m\u001b[0;34m)\u001b[0m\u001b[0;34m\u001b[0m\u001b[0;34m\u001b[0m\u001b[0m\n\u001b[1;32m     66\u001b[0m         \u001b[0mm\u001b[0m \u001b[0;34m=\u001b[0m \u001b[0;34m(\u001b[0m\u001b[0;36m1\u001b[0m \u001b[0;34m-\u001b[0m \u001b[0mb1\u001b[0m\u001b[0;34m)\u001b[0m \u001b[0;34m*\u001b[0m \u001b[0mg\u001b[0m      \u001b[0;34m+\u001b[0m \u001b[0mb1\u001b[0m \u001b[0;34m*\u001b[0m \u001b[0mm\u001b[0m  \u001b[0;31m# First  moment estimate.\u001b[0m\u001b[0;34m\u001b[0m\u001b[0;34m\u001b[0m\u001b[0m\n",
            "\u001b[0;32m/content/myOptimizers.py\u001b[0m in \u001b[0;36m<lambda>\u001b[0;34m(x, i)\u001b[0m\n\u001b[1;32m     21\u001b[0m     \u001b[0;32mdef\u001b[0m \u001b[0m_optimize\u001b[0m\u001b[0;34m(\u001b[0m\u001b[0mgrad\u001b[0m\u001b[0;34m,\u001b[0m \u001b[0mx0\u001b[0m\u001b[0;34m,\u001b[0m \u001b[0mcallback\u001b[0m\u001b[0;34m=\u001b[0m\u001b[0;32mNone\u001b[0m\u001b[0;34m,\u001b[0m \u001b[0;34m*\u001b[0m\u001b[0margs\u001b[0m\u001b[0;34m,\u001b[0m \u001b[0;34m**\u001b[0m\u001b[0mkwargs\u001b[0m\u001b[0;34m)\u001b[0m\u001b[0;34m:\u001b[0m\u001b[0;34m\u001b[0m\u001b[0;34m\u001b[0m\u001b[0m\n\u001b[1;32m     22\u001b[0m         \u001b[0m_x0\u001b[0m\u001b[0;34m,\u001b[0m \u001b[0munflatten\u001b[0m \u001b[0;34m=\u001b[0m \u001b[0mflatten\u001b[0m\u001b[0;34m(\u001b[0m\u001b[0mx0\u001b[0m\u001b[0;34m)\u001b[0m\u001b[0;34m\u001b[0m\u001b[0;34m\u001b[0m\u001b[0m\n\u001b[0;32m---> 23\u001b[0;31m         \u001b[0m_grad\u001b[0m \u001b[0;34m=\u001b[0m \u001b[0;32mlambda\u001b[0m \u001b[0mx\u001b[0m\u001b[0;34m,\u001b[0m \u001b[0mi\u001b[0m\u001b[0;34m:\u001b[0m \u001b[0mflatten\u001b[0m\u001b[0;34m(\u001b[0m\u001b[0mgrad\u001b[0m\u001b[0;34m(\u001b[0m\u001b[0munflatten\u001b[0m\u001b[0;34m(\u001b[0m\u001b[0mx\u001b[0m\u001b[0;34m)\u001b[0m\u001b[0;34m,\u001b[0m \u001b[0mi\u001b[0m\u001b[0;34m)\u001b[0m\u001b[0;34m)\u001b[0m\u001b[0;34m[\u001b[0m\u001b[0;36m0\u001b[0m\u001b[0;34m]\u001b[0m\u001b[0;34m\u001b[0m\u001b[0;34m\u001b[0m\u001b[0m\n\u001b[0m\u001b[1;32m     24\u001b[0m         \u001b[0;32mif\u001b[0m \u001b[0mcallback\u001b[0m\u001b[0;34m:\u001b[0m\u001b[0;34m\u001b[0m\u001b[0;34m\u001b[0m\u001b[0m\n\u001b[1;32m     25\u001b[0m             \u001b[0m_callback\u001b[0m \u001b[0;34m=\u001b[0m \u001b[0;32mlambda\u001b[0m \u001b[0mx\u001b[0m\u001b[0;34m,\u001b[0m \u001b[0mi\u001b[0m\u001b[0;34m,\u001b[0m \u001b[0mg\u001b[0m\u001b[0;34m:\u001b[0m \u001b[0mcallback\u001b[0m\u001b[0;34m(\u001b[0m\u001b[0munflatten\u001b[0m\u001b[0;34m(\u001b[0m\u001b[0mx\u001b[0m\u001b[0;34m)\u001b[0m\u001b[0;34m,\u001b[0m \u001b[0mi\u001b[0m\u001b[0;34m,\u001b[0m \u001b[0munflatten\u001b[0m\u001b[0;34m(\u001b[0m\u001b[0mg\u001b[0m\u001b[0;34m)\u001b[0m\u001b[0;34m)\u001b[0m\u001b[0;34m\u001b[0m\u001b[0;34m\u001b[0m\u001b[0m\n",
            "\u001b[0;32m/usr/local/lib/python3.6/dist-packages/autograd/wrap_util.py\u001b[0m in \u001b[0;36mnary_f\u001b[0;34m(*args, **kwargs)\u001b[0m\n\u001b[1;32m     18\u001b[0m             \u001b[0;32melse\u001b[0m\u001b[0;34m:\u001b[0m\u001b[0;34m\u001b[0m\u001b[0;34m\u001b[0m\u001b[0m\n\u001b[1;32m     19\u001b[0m                 \u001b[0mx\u001b[0m \u001b[0;34m=\u001b[0m \u001b[0mtuple\u001b[0m\u001b[0;34m(\u001b[0m\u001b[0margs\u001b[0m\u001b[0;34m[\u001b[0m\u001b[0mi\u001b[0m\u001b[0;34m]\u001b[0m \u001b[0;32mfor\u001b[0m \u001b[0mi\u001b[0m \u001b[0;32min\u001b[0m \u001b[0margnum\u001b[0m\u001b[0;34m)\u001b[0m\u001b[0;34m\u001b[0m\u001b[0;34m\u001b[0m\u001b[0m\n\u001b[0;32m---> 20\u001b[0;31m             \u001b[0;32mreturn\u001b[0m \u001b[0munary_operator\u001b[0m\u001b[0;34m(\u001b[0m\u001b[0munary_f\u001b[0m\u001b[0;34m,\u001b[0m \u001b[0mx\u001b[0m\u001b[0;34m,\u001b[0m \u001b[0;34m*\u001b[0m\u001b[0mnary_op_args\u001b[0m\u001b[0;34m,\u001b[0m \u001b[0;34m**\u001b[0m\u001b[0mnary_op_kwargs\u001b[0m\u001b[0;34m)\u001b[0m\u001b[0;34m\u001b[0m\u001b[0;34m\u001b[0m\u001b[0m\n\u001b[0m\u001b[1;32m     21\u001b[0m         \u001b[0;32mreturn\u001b[0m \u001b[0mnary_f\u001b[0m\u001b[0;34m\u001b[0m\u001b[0;34m\u001b[0m\u001b[0m\n\u001b[1;32m     22\u001b[0m     \u001b[0;32mreturn\u001b[0m \u001b[0mnary_operator\u001b[0m\u001b[0;34m\u001b[0m\u001b[0;34m\u001b[0m\u001b[0m\n",
            "\u001b[0;32m/usr/local/lib/python3.6/dist-packages/autograd/differential_operators.py\u001b[0m in \u001b[0;36mgrad\u001b[0;34m(fun, x)\u001b[0m\n\u001b[1;32m     23\u001b[0m     \u001b[0marguments\u001b[0m \u001b[0;32mas\u001b[0m\u001b[0;31m \u001b[0m\u001b[0;31m`\u001b[0m\u001b[0mfun\u001b[0m\u001b[0;31m`\u001b[0m\u001b[0;34m,\u001b[0m \u001b[0mbut\u001b[0m \u001b[0mreturns\u001b[0m \u001b[0mthe\u001b[0m \u001b[0mgradient\u001b[0m \u001b[0minstead\u001b[0m\u001b[0;34m.\u001b[0m \u001b[0mThe\u001b[0m \u001b[0mfunction\u001b[0m\u001b[0;31m \u001b[0m\u001b[0;31m`\u001b[0m\u001b[0mfun\u001b[0m\u001b[0;31m`\u001b[0m\u001b[0;34m\u001b[0m\u001b[0;34m\u001b[0m\u001b[0m\n\u001b[1;32m     24\u001b[0m     should be scalar-valued. The gradient has the same type as the argument.\"\"\"\n\u001b[0;32m---> 25\u001b[0;31m     \u001b[0mvjp\u001b[0m\u001b[0;34m,\u001b[0m \u001b[0mans\u001b[0m \u001b[0;34m=\u001b[0m \u001b[0m_make_vjp\u001b[0m\u001b[0;34m(\u001b[0m\u001b[0mfun\u001b[0m\u001b[0;34m,\u001b[0m \u001b[0mx\u001b[0m\u001b[0;34m)\u001b[0m\u001b[0;34m\u001b[0m\u001b[0;34m\u001b[0m\u001b[0m\n\u001b[0m\u001b[1;32m     26\u001b[0m     \u001b[0;32mif\u001b[0m \u001b[0;32mnot\u001b[0m \u001b[0mvspace\u001b[0m\u001b[0;34m(\u001b[0m\u001b[0mans\u001b[0m\u001b[0;34m)\u001b[0m\u001b[0;34m.\u001b[0m\u001b[0msize\u001b[0m \u001b[0;34m==\u001b[0m \u001b[0;36m1\u001b[0m\u001b[0;34m:\u001b[0m\u001b[0;34m\u001b[0m\u001b[0;34m\u001b[0m\u001b[0m\n\u001b[1;32m     27\u001b[0m         raise TypeError(\"Grad only applies to real scalar-output functions. \"\n",
            "\u001b[0;32m/usr/local/lib/python3.6/dist-packages/autograd/core.py\u001b[0m in \u001b[0;36mmake_vjp\u001b[0;34m(fun, x)\u001b[0m\n\u001b[1;32m      8\u001b[0m \u001b[0;32mdef\u001b[0m \u001b[0mmake_vjp\u001b[0m\u001b[0;34m(\u001b[0m\u001b[0mfun\u001b[0m\u001b[0;34m,\u001b[0m \u001b[0mx\u001b[0m\u001b[0;34m)\u001b[0m\u001b[0;34m:\u001b[0m\u001b[0;34m\u001b[0m\u001b[0;34m\u001b[0m\u001b[0m\n\u001b[1;32m      9\u001b[0m     \u001b[0mstart_node\u001b[0m \u001b[0;34m=\u001b[0m \u001b[0mVJPNode\u001b[0m\u001b[0;34m.\u001b[0m\u001b[0mnew_root\u001b[0m\u001b[0;34m(\u001b[0m\u001b[0;34m)\u001b[0m\u001b[0;34m\u001b[0m\u001b[0;34m\u001b[0m\u001b[0m\n\u001b[0;32m---> 10\u001b[0;31m     \u001b[0mend_value\u001b[0m\u001b[0;34m,\u001b[0m \u001b[0mend_node\u001b[0m \u001b[0;34m=\u001b[0m  \u001b[0mtrace\u001b[0m\u001b[0;34m(\u001b[0m\u001b[0mstart_node\u001b[0m\u001b[0;34m,\u001b[0m \u001b[0mfun\u001b[0m\u001b[0;34m,\u001b[0m \u001b[0mx\u001b[0m\u001b[0;34m)\u001b[0m\u001b[0;34m\u001b[0m\u001b[0;34m\u001b[0m\u001b[0m\n\u001b[0m\u001b[1;32m     11\u001b[0m     \u001b[0;32mif\u001b[0m \u001b[0mend_node\u001b[0m \u001b[0;32mis\u001b[0m \u001b[0;32mNone\u001b[0m\u001b[0;34m:\u001b[0m\u001b[0;34m\u001b[0m\u001b[0;34m\u001b[0m\u001b[0m\n\u001b[1;32m     12\u001b[0m         \u001b[0;32mdef\u001b[0m \u001b[0mvjp\u001b[0m\u001b[0;34m(\u001b[0m\u001b[0mg\u001b[0m\u001b[0;34m)\u001b[0m\u001b[0;34m:\u001b[0m \u001b[0;32mreturn\u001b[0m \u001b[0mvspace\u001b[0m\u001b[0;34m(\u001b[0m\u001b[0mx\u001b[0m\u001b[0;34m)\u001b[0m\u001b[0;34m.\u001b[0m\u001b[0mzeros\u001b[0m\u001b[0;34m(\u001b[0m\u001b[0;34m)\u001b[0m\u001b[0;34m\u001b[0m\u001b[0;34m\u001b[0m\u001b[0m\n",
            "\u001b[0;32m/usr/local/lib/python3.6/dist-packages/autograd/tracer.py\u001b[0m in \u001b[0;36mtrace\u001b[0;34m(start_node, fun, x)\u001b[0m\n\u001b[1;32m      8\u001b[0m     \u001b[0;32mwith\u001b[0m \u001b[0mtrace_stack\u001b[0m\u001b[0;34m.\u001b[0m\u001b[0mnew_trace\u001b[0m\u001b[0;34m(\u001b[0m\u001b[0;34m)\u001b[0m \u001b[0;32mas\u001b[0m \u001b[0mt\u001b[0m\u001b[0;34m:\u001b[0m\u001b[0;34m\u001b[0m\u001b[0;34m\u001b[0m\u001b[0m\n\u001b[1;32m      9\u001b[0m         \u001b[0mstart_box\u001b[0m \u001b[0;34m=\u001b[0m \u001b[0mnew_box\u001b[0m\u001b[0;34m(\u001b[0m\u001b[0mx\u001b[0m\u001b[0;34m,\u001b[0m \u001b[0mt\u001b[0m\u001b[0;34m,\u001b[0m \u001b[0mstart_node\u001b[0m\u001b[0;34m)\u001b[0m\u001b[0;34m\u001b[0m\u001b[0;34m\u001b[0m\u001b[0m\n\u001b[0;32m---> 10\u001b[0;31m         \u001b[0mend_box\u001b[0m \u001b[0;34m=\u001b[0m \u001b[0mfun\u001b[0m\u001b[0;34m(\u001b[0m\u001b[0mstart_box\u001b[0m\u001b[0;34m)\u001b[0m\u001b[0;34m\u001b[0m\u001b[0;34m\u001b[0m\u001b[0m\n\u001b[0m\u001b[1;32m     11\u001b[0m         \u001b[0;32mif\u001b[0m \u001b[0misbox\u001b[0m\u001b[0;34m(\u001b[0m\u001b[0mend_box\u001b[0m\u001b[0;34m)\u001b[0m \u001b[0;32mand\u001b[0m \u001b[0mend_box\u001b[0m\u001b[0;34m.\u001b[0m\u001b[0m_trace\u001b[0m \u001b[0;34m==\u001b[0m \u001b[0mstart_box\u001b[0m\u001b[0;34m.\u001b[0m\u001b[0m_trace\u001b[0m\u001b[0;34m:\u001b[0m\u001b[0;34m\u001b[0m\u001b[0;34m\u001b[0m\u001b[0m\n\u001b[1;32m     12\u001b[0m             \u001b[0;32mreturn\u001b[0m \u001b[0mend_box\u001b[0m\u001b[0;34m.\u001b[0m\u001b[0m_value\u001b[0m\u001b[0;34m,\u001b[0m \u001b[0mend_box\u001b[0m\u001b[0;34m.\u001b[0m\u001b[0m_node\u001b[0m\u001b[0;34m\u001b[0m\u001b[0;34m\u001b[0m\u001b[0m\n",
            "\u001b[0;32m/usr/local/lib/python3.6/dist-packages/autograd/wrap_util.py\u001b[0m in \u001b[0;36munary_f\u001b[0;34m(x)\u001b[0m\n\u001b[1;32m     13\u001b[0m                 \u001b[0;32melse\u001b[0m\u001b[0;34m:\u001b[0m\u001b[0;34m\u001b[0m\u001b[0;34m\u001b[0m\u001b[0m\n\u001b[1;32m     14\u001b[0m                     \u001b[0msubargs\u001b[0m \u001b[0;34m=\u001b[0m \u001b[0msubvals\u001b[0m\u001b[0;34m(\u001b[0m\u001b[0margs\u001b[0m\u001b[0;34m,\u001b[0m \u001b[0mzip\u001b[0m\u001b[0;34m(\u001b[0m\u001b[0margnum\u001b[0m\u001b[0;34m,\u001b[0m \u001b[0mx\u001b[0m\u001b[0;34m)\u001b[0m\u001b[0;34m)\u001b[0m\u001b[0;34m\u001b[0m\u001b[0;34m\u001b[0m\u001b[0m\n\u001b[0;32m---> 15\u001b[0;31m                 \u001b[0;32mreturn\u001b[0m \u001b[0mfun\u001b[0m\u001b[0;34m(\u001b[0m\u001b[0;34m*\u001b[0m\u001b[0msubargs\u001b[0m\u001b[0;34m,\u001b[0m \u001b[0;34m**\u001b[0m\u001b[0mkwargs\u001b[0m\u001b[0;34m)\u001b[0m\u001b[0;34m\u001b[0m\u001b[0;34m\u001b[0m\u001b[0m\n\u001b[0m\u001b[1;32m     16\u001b[0m             \u001b[0;32mif\u001b[0m \u001b[0misinstance\u001b[0m\u001b[0;34m(\u001b[0m\u001b[0margnum\u001b[0m\u001b[0;34m,\u001b[0m \u001b[0mint\u001b[0m\u001b[0;34m)\u001b[0m\u001b[0;34m:\u001b[0m\u001b[0;34m\u001b[0m\u001b[0;34m\u001b[0m\u001b[0m\n\u001b[1;32m     17\u001b[0m                 \u001b[0mx\u001b[0m \u001b[0;34m=\u001b[0m \u001b[0margs\u001b[0m\u001b[0;34m[\u001b[0m\u001b[0margnum\u001b[0m\u001b[0;34m]\u001b[0m\u001b[0;34m\u001b[0m\u001b[0;34m\u001b[0m\u001b[0m\n",
            "\u001b[0;32m<ipython-input-68-7b7b6a591275>\u001b[0m in \u001b[0;36mobjective\u001b[0;34m(params, step)\u001b[0m\n\u001b[1;32m     25\u001b[0m \u001b[0;34m\u001b[0m\u001b[0m\n\u001b[1;32m     26\u001b[0m   \u001b[0mwf\u001b[0m \u001b[0;34m=\u001b[0m \u001b[0mpsi\u001b[0m\u001b[0;34m(\u001b[0m\u001b[0mnnparams\u001b[0m\u001b[0;34m,\u001b[0m \u001b[0mx\u001b[0m\u001b[0;34m)\u001b[0m\u001b[0;34m\u001b[0m\u001b[0;34m\u001b[0m\u001b[0m\n\u001b[0;32m---> 27\u001b[0;31m   \u001b[0mdiffeq\u001b[0m \u001b[0;34m=\u001b[0m \u001b[0;34m-\u001b[0m\u001b[0;36m0.5\u001b[0m \u001b[0;34m*\u001b[0m \u001b[0mddpsi\u001b[0m\u001b[0;34m(\u001b[0m\u001b[0mnnparams\u001b[0m\u001b[0;34m,\u001b[0m \u001b[0mx\u001b[0m\u001b[0;34m)\u001b[0m \u001b[0;34m-\u001b[0m \u001b[0mnp\u001b[0m\u001b[0;34m.\u001b[0m\u001b[0mmultiply\u001b[0m\u001b[0;34m(\u001b[0m\u001b[0;36m30\u001b[0m\u001b[0;34m*\u001b[0m\u001b[0mnp\u001b[0m\u001b[0;34m.\u001b[0m\u001b[0mones\u001b[0m\u001b[0;34m(\u001b[0m\u001b[0mx\u001b[0m\u001b[0;34m.\u001b[0m\u001b[0mshape\u001b[0m\u001b[0;34m)\u001b[0m \u001b[0;34m-\u001b[0m \u001b[0mx\u001b[0m\u001b[0;34m**\u001b[0m\u001b[0;36m2\u001b[0m\u001b[0;34m,\u001b[0m \u001b[0mwf\u001b[0m\u001b[0;34m)\u001b[0m\u001b[0;34m\u001b[0m\u001b[0;34m\u001b[0m\u001b[0m\n\u001b[0m\u001b[1;32m     28\u001b[0m   \u001b[0my2\u001b[0m \u001b[0;34m=\u001b[0m \u001b[0mwf\u001b[0m\u001b[0;34m**\u001b[0m\u001b[0;36m2\u001b[0m \u001b[0;31m#probability fn\u001b[0m\u001b[0;34m\u001b[0m\u001b[0;34m\u001b[0m\u001b[0m\n\u001b[1;32m     29\u001b[0m   \u001b[0mprob\u001b[0m \u001b[0;34m=\u001b[0m \u001b[0mnp\u001b[0m\u001b[0;34m.\u001b[0m\u001b[0msum\u001b[0m\u001b[0;34m(\u001b[0m\u001b[0;34m(\u001b[0m\u001b[0my2\u001b[0m\u001b[0;34m[\u001b[0m\u001b[0;36m1\u001b[0m\u001b[0;34m:\u001b[0m\u001b[0;34m]\u001b[0m \u001b[0;34m+\u001b[0m \u001b[0my2\u001b[0m\u001b[0;34m[\u001b[0m\u001b[0;36m0\u001b[0m\u001b[0;34m:\u001b[0m\u001b[0;34m-\u001b[0m\u001b[0;36m1\u001b[0m\u001b[0;34m]\u001b[0m\u001b[0;34m)\u001b[0m \u001b[0;34m/\u001b[0m \u001b[0;36m2\u001b[0m \u001b[0;34m*\u001b[0m \u001b[0;34m(\u001b[0m\u001b[0mx\u001b[0m\u001b[0;34m[\u001b[0m\u001b[0;36m1\u001b[0m\u001b[0;34m:\u001b[0m\u001b[0;34m]\u001b[0m \u001b[0;34m-\u001b[0m \u001b[0mx\u001b[0m\u001b[0;34m[\u001b[0m\u001b[0;36m0\u001b[0m\u001b[0;34m:\u001b[0m\u001b[0;34m-\u001b[0m\u001b[0;36m1\u001b[0m\u001b[0;34m]\u001b[0m\u001b[0;34m)\u001b[0m\u001b[0;34m)\u001b[0m\u001b[0;34m\u001b[0m\u001b[0;34m\u001b[0m\u001b[0m\n",
            "\u001b[0;32m/usr/local/lib/python3.6/dist-packages/autograd/wrap_util.py\u001b[0m in \u001b[0;36mnary_f\u001b[0;34m(*args, **kwargs)\u001b[0m\n\u001b[1;32m     18\u001b[0m             \u001b[0;32melse\u001b[0m\u001b[0;34m:\u001b[0m\u001b[0;34m\u001b[0m\u001b[0;34m\u001b[0m\u001b[0m\n\u001b[1;32m     19\u001b[0m                 \u001b[0mx\u001b[0m \u001b[0;34m=\u001b[0m \u001b[0mtuple\u001b[0m\u001b[0;34m(\u001b[0m\u001b[0margs\u001b[0m\u001b[0;34m[\u001b[0m\u001b[0mi\u001b[0m\u001b[0;34m]\u001b[0m \u001b[0;32mfor\u001b[0m \u001b[0mi\u001b[0m \u001b[0;32min\u001b[0m \u001b[0margnum\u001b[0m\u001b[0;34m)\u001b[0m\u001b[0;34m\u001b[0m\u001b[0;34m\u001b[0m\u001b[0m\n\u001b[0;32m---> 20\u001b[0;31m             \u001b[0;32mreturn\u001b[0m \u001b[0munary_operator\u001b[0m\u001b[0;34m(\u001b[0m\u001b[0munary_f\u001b[0m\u001b[0;34m,\u001b[0m \u001b[0mx\u001b[0m\u001b[0;34m,\u001b[0m \u001b[0;34m*\u001b[0m\u001b[0mnary_op_args\u001b[0m\u001b[0;34m,\u001b[0m \u001b[0;34m**\u001b[0m\u001b[0mnary_op_kwargs\u001b[0m\u001b[0;34m)\u001b[0m\u001b[0;34m\u001b[0m\u001b[0;34m\u001b[0m\u001b[0m\n\u001b[0m\u001b[1;32m     21\u001b[0m         \u001b[0;32mreturn\u001b[0m \u001b[0mnary_f\u001b[0m\u001b[0;34m\u001b[0m\u001b[0;34m\u001b[0m\u001b[0m\n\u001b[1;32m     22\u001b[0m     \u001b[0;32mreturn\u001b[0m \u001b[0mnary_operator\u001b[0m\u001b[0;34m\u001b[0m\u001b[0;34m\u001b[0m\u001b[0m\n",
            "\u001b[0;32m/usr/local/lib/python3.6/dist-packages/autograd/differential_operators.py\u001b[0m in \u001b[0;36melementwise_grad\u001b[0;34m(fun, x)\u001b[0m\n\u001b[1;32m     36\u001b[0m     \u001b[0mof\u001b[0m \u001b[0mthe\u001b[0m \u001b[0mJacobian\u001b[0m\u001b[0;34m.\u001b[0m\u001b[0;34m\u001b[0m\u001b[0;34m\u001b[0m\u001b[0m\n\u001b[1;32m     37\u001b[0m     \"\"\"\n\u001b[0;32m---> 38\u001b[0;31m     \u001b[0mvjp\u001b[0m\u001b[0;34m,\u001b[0m \u001b[0mans\u001b[0m \u001b[0;34m=\u001b[0m \u001b[0m_make_vjp\u001b[0m\u001b[0;34m(\u001b[0m\u001b[0mfun\u001b[0m\u001b[0;34m,\u001b[0m \u001b[0mx\u001b[0m\u001b[0;34m)\u001b[0m\u001b[0;34m\u001b[0m\u001b[0;34m\u001b[0m\u001b[0m\n\u001b[0m\u001b[1;32m     39\u001b[0m     \u001b[0;32mif\u001b[0m \u001b[0mvspace\u001b[0m\u001b[0;34m(\u001b[0m\u001b[0mans\u001b[0m\u001b[0;34m)\u001b[0m\u001b[0;34m.\u001b[0m\u001b[0miscomplex\u001b[0m\u001b[0;34m:\u001b[0m\u001b[0;34m\u001b[0m\u001b[0;34m\u001b[0m\u001b[0m\n\u001b[1;32m     40\u001b[0m         \u001b[0;32mraise\u001b[0m \u001b[0mTypeError\u001b[0m\u001b[0;34m(\u001b[0m\u001b[0;34m\"Elementwise_grad only applies to real-output functions.\"\u001b[0m\u001b[0;34m)\u001b[0m\u001b[0;34m\u001b[0m\u001b[0;34m\u001b[0m\u001b[0m\n",
            "\u001b[0;32m/usr/local/lib/python3.6/dist-packages/autograd/core.py\u001b[0m in \u001b[0;36mmake_vjp\u001b[0;34m(fun, x)\u001b[0m\n\u001b[1;32m      8\u001b[0m \u001b[0;32mdef\u001b[0m \u001b[0mmake_vjp\u001b[0m\u001b[0;34m(\u001b[0m\u001b[0mfun\u001b[0m\u001b[0;34m,\u001b[0m \u001b[0mx\u001b[0m\u001b[0;34m)\u001b[0m\u001b[0;34m:\u001b[0m\u001b[0;34m\u001b[0m\u001b[0;34m\u001b[0m\u001b[0m\n\u001b[1;32m      9\u001b[0m     \u001b[0mstart_node\u001b[0m \u001b[0;34m=\u001b[0m \u001b[0mVJPNode\u001b[0m\u001b[0;34m.\u001b[0m\u001b[0mnew_root\u001b[0m\u001b[0;34m(\u001b[0m\u001b[0;34m)\u001b[0m\u001b[0;34m\u001b[0m\u001b[0;34m\u001b[0m\u001b[0m\n\u001b[0;32m---> 10\u001b[0;31m     \u001b[0mend_value\u001b[0m\u001b[0;34m,\u001b[0m \u001b[0mend_node\u001b[0m \u001b[0;34m=\u001b[0m  \u001b[0mtrace\u001b[0m\u001b[0;34m(\u001b[0m\u001b[0mstart_node\u001b[0m\u001b[0;34m,\u001b[0m \u001b[0mfun\u001b[0m\u001b[0;34m,\u001b[0m \u001b[0mx\u001b[0m\u001b[0;34m)\u001b[0m\u001b[0;34m\u001b[0m\u001b[0;34m\u001b[0m\u001b[0m\n\u001b[0m\u001b[1;32m     11\u001b[0m     \u001b[0;32mif\u001b[0m \u001b[0mend_node\u001b[0m \u001b[0;32mis\u001b[0m \u001b[0;32mNone\u001b[0m\u001b[0;34m:\u001b[0m\u001b[0;34m\u001b[0m\u001b[0;34m\u001b[0m\u001b[0m\n\u001b[1;32m     12\u001b[0m         \u001b[0;32mdef\u001b[0m \u001b[0mvjp\u001b[0m\u001b[0;34m(\u001b[0m\u001b[0mg\u001b[0m\u001b[0;34m)\u001b[0m\u001b[0;34m:\u001b[0m \u001b[0;32mreturn\u001b[0m \u001b[0mvspace\u001b[0m\u001b[0;34m(\u001b[0m\u001b[0mx\u001b[0m\u001b[0;34m)\u001b[0m\u001b[0;34m.\u001b[0m\u001b[0mzeros\u001b[0m\u001b[0;34m(\u001b[0m\u001b[0;34m)\u001b[0m\u001b[0;34m\u001b[0m\u001b[0;34m\u001b[0m\u001b[0m\n",
            "\u001b[0;32m/usr/local/lib/python3.6/dist-packages/autograd/tracer.py\u001b[0m in \u001b[0;36mtrace\u001b[0;34m(start_node, fun, x)\u001b[0m\n\u001b[1;32m      8\u001b[0m     \u001b[0;32mwith\u001b[0m \u001b[0mtrace_stack\u001b[0m\u001b[0;34m.\u001b[0m\u001b[0mnew_trace\u001b[0m\u001b[0;34m(\u001b[0m\u001b[0;34m)\u001b[0m \u001b[0;32mas\u001b[0m \u001b[0mt\u001b[0m\u001b[0;34m:\u001b[0m\u001b[0;34m\u001b[0m\u001b[0;34m\u001b[0m\u001b[0m\n\u001b[1;32m      9\u001b[0m         \u001b[0mstart_box\u001b[0m \u001b[0;34m=\u001b[0m \u001b[0mnew_box\u001b[0m\u001b[0;34m(\u001b[0m\u001b[0mx\u001b[0m\u001b[0;34m,\u001b[0m \u001b[0mt\u001b[0m\u001b[0;34m,\u001b[0m \u001b[0mstart_node\u001b[0m\u001b[0;34m)\u001b[0m\u001b[0;34m\u001b[0m\u001b[0;34m\u001b[0m\u001b[0m\n\u001b[0;32m---> 10\u001b[0;31m         \u001b[0mend_box\u001b[0m \u001b[0;34m=\u001b[0m \u001b[0mfun\u001b[0m\u001b[0;34m(\u001b[0m\u001b[0mstart_box\u001b[0m\u001b[0;34m)\u001b[0m\u001b[0;34m\u001b[0m\u001b[0;34m\u001b[0m\u001b[0m\n\u001b[0m\u001b[1;32m     11\u001b[0m         \u001b[0;32mif\u001b[0m \u001b[0misbox\u001b[0m\u001b[0;34m(\u001b[0m\u001b[0mend_box\u001b[0m\u001b[0;34m)\u001b[0m \u001b[0;32mand\u001b[0m \u001b[0mend_box\u001b[0m\u001b[0;34m.\u001b[0m\u001b[0m_trace\u001b[0m \u001b[0;34m==\u001b[0m \u001b[0mstart_box\u001b[0m\u001b[0;34m.\u001b[0m\u001b[0m_trace\u001b[0m\u001b[0;34m:\u001b[0m\u001b[0;34m\u001b[0m\u001b[0;34m\u001b[0m\u001b[0m\n\u001b[1;32m     12\u001b[0m             \u001b[0;32mreturn\u001b[0m \u001b[0mend_box\u001b[0m\u001b[0;34m.\u001b[0m\u001b[0m_value\u001b[0m\u001b[0;34m,\u001b[0m \u001b[0mend_box\u001b[0m\u001b[0;34m.\u001b[0m\u001b[0m_node\u001b[0m\u001b[0;34m\u001b[0m\u001b[0;34m\u001b[0m\u001b[0m\n",
            "\u001b[0;32m/usr/local/lib/python3.6/dist-packages/autograd/wrap_util.py\u001b[0m in \u001b[0;36munary_f\u001b[0;34m(x)\u001b[0m\n\u001b[1;32m     13\u001b[0m                 \u001b[0;32melse\u001b[0m\u001b[0;34m:\u001b[0m\u001b[0;34m\u001b[0m\u001b[0;34m\u001b[0m\u001b[0m\n\u001b[1;32m     14\u001b[0m                     \u001b[0msubargs\u001b[0m \u001b[0;34m=\u001b[0m \u001b[0msubvals\u001b[0m\u001b[0;34m(\u001b[0m\u001b[0margs\u001b[0m\u001b[0;34m,\u001b[0m \u001b[0mzip\u001b[0m\u001b[0;34m(\u001b[0m\u001b[0margnum\u001b[0m\u001b[0;34m,\u001b[0m \u001b[0mx\u001b[0m\u001b[0;34m)\u001b[0m\u001b[0;34m)\u001b[0m\u001b[0;34m\u001b[0m\u001b[0;34m\u001b[0m\u001b[0m\n\u001b[0;32m---> 15\u001b[0;31m                 \u001b[0;32mreturn\u001b[0m \u001b[0mfun\u001b[0m\u001b[0;34m(\u001b[0m\u001b[0;34m*\u001b[0m\u001b[0msubargs\u001b[0m\u001b[0;34m,\u001b[0m \u001b[0;34m**\u001b[0m\u001b[0mkwargs\u001b[0m\u001b[0;34m)\u001b[0m\u001b[0;34m\u001b[0m\u001b[0;34m\u001b[0m\u001b[0m\n\u001b[0m\u001b[1;32m     16\u001b[0m             \u001b[0;32mif\u001b[0m \u001b[0misinstance\u001b[0m\u001b[0;34m(\u001b[0m\u001b[0margnum\u001b[0m\u001b[0;34m,\u001b[0m \u001b[0mint\u001b[0m\u001b[0;34m)\u001b[0m\u001b[0;34m:\u001b[0m\u001b[0;34m\u001b[0m\u001b[0;34m\u001b[0m\u001b[0m\n\u001b[1;32m     17\u001b[0m                 \u001b[0mx\u001b[0m \u001b[0;34m=\u001b[0m \u001b[0margs\u001b[0m\u001b[0;34m[\u001b[0m\u001b[0margnum\u001b[0m\u001b[0;34m]\u001b[0m\u001b[0;34m\u001b[0m\u001b[0;34m\u001b[0m\u001b[0m\n",
            "\u001b[0;32m/usr/local/lib/python3.6/dist-packages/autograd/wrap_util.py\u001b[0m in \u001b[0;36mnary_f\u001b[0;34m(*args, **kwargs)\u001b[0m\n\u001b[1;32m     18\u001b[0m             \u001b[0;32melse\u001b[0m\u001b[0;34m:\u001b[0m\u001b[0;34m\u001b[0m\u001b[0;34m\u001b[0m\u001b[0m\n\u001b[1;32m     19\u001b[0m                 \u001b[0mx\u001b[0m \u001b[0;34m=\u001b[0m \u001b[0mtuple\u001b[0m\u001b[0;34m(\u001b[0m\u001b[0margs\u001b[0m\u001b[0;34m[\u001b[0m\u001b[0mi\u001b[0m\u001b[0;34m]\u001b[0m \u001b[0;32mfor\u001b[0m \u001b[0mi\u001b[0m \u001b[0;32min\u001b[0m \u001b[0margnum\u001b[0m\u001b[0;34m)\u001b[0m\u001b[0;34m\u001b[0m\u001b[0;34m\u001b[0m\u001b[0m\n\u001b[0;32m---> 20\u001b[0;31m             \u001b[0;32mreturn\u001b[0m \u001b[0munary_operator\u001b[0m\u001b[0;34m(\u001b[0m\u001b[0munary_f\u001b[0m\u001b[0;34m,\u001b[0m \u001b[0mx\u001b[0m\u001b[0;34m,\u001b[0m \u001b[0;34m*\u001b[0m\u001b[0mnary_op_args\u001b[0m\u001b[0;34m,\u001b[0m \u001b[0;34m**\u001b[0m\u001b[0mnary_op_kwargs\u001b[0m\u001b[0;34m)\u001b[0m\u001b[0;34m\u001b[0m\u001b[0;34m\u001b[0m\u001b[0m\n\u001b[0m\u001b[1;32m     21\u001b[0m         \u001b[0;32mreturn\u001b[0m \u001b[0mnary_f\u001b[0m\u001b[0;34m\u001b[0m\u001b[0;34m\u001b[0m\u001b[0m\n\u001b[1;32m     22\u001b[0m     \u001b[0;32mreturn\u001b[0m \u001b[0mnary_operator\u001b[0m\u001b[0;34m\u001b[0m\u001b[0;34m\u001b[0m\u001b[0m\n",
            "\u001b[0;32m/usr/local/lib/python3.6/dist-packages/autograd/differential_operators.py\u001b[0m in \u001b[0;36melementwise_grad\u001b[0;34m(fun, x)\u001b[0m\n\u001b[1;32m     39\u001b[0m     \u001b[0;32mif\u001b[0m \u001b[0mvspace\u001b[0m\u001b[0;34m(\u001b[0m\u001b[0mans\u001b[0m\u001b[0;34m)\u001b[0m\u001b[0;34m.\u001b[0m\u001b[0miscomplex\u001b[0m\u001b[0;34m:\u001b[0m\u001b[0;34m\u001b[0m\u001b[0;34m\u001b[0m\u001b[0m\n\u001b[1;32m     40\u001b[0m         \u001b[0;32mraise\u001b[0m \u001b[0mTypeError\u001b[0m\u001b[0;34m(\u001b[0m\u001b[0;34m\"Elementwise_grad only applies to real-output functions.\"\u001b[0m\u001b[0;34m)\u001b[0m\u001b[0;34m\u001b[0m\u001b[0;34m\u001b[0m\u001b[0m\n\u001b[0;32m---> 41\u001b[0;31m     \u001b[0;32mreturn\u001b[0m \u001b[0mvjp\u001b[0m\u001b[0;34m(\u001b[0m\u001b[0mvspace\u001b[0m\u001b[0;34m(\u001b[0m\u001b[0mans\u001b[0m\u001b[0;34m)\u001b[0m\u001b[0;34m.\u001b[0m\u001b[0mones\u001b[0m\u001b[0;34m(\u001b[0m\u001b[0;34m)\u001b[0m\u001b[0;34m)\u001b[0m\u001b[0;34m\u001b[0m\u001b[0;34m\u001b[0m\u001b[0m\n\u001b[0m\u001b[1;32m     42\u001b[0m \u001b[0;34m\u001b[0m\u001b[0m\n\u001b[1;32m     43\u001b[0m \u001b[0;34m@\u001b[0m\u001b[0munary_to_nary\u001b[0m\u001b[0;34m\u001b[0m\u001b[0;34m\u001b[0m\u001b[0m\n",
            "\u001b[0;32m/usr/local/lib/python3.6/dist-packages/autograd/core.py\u001b[0m in \u001b[0;36mvjp\u001b[0;34m(g)\u001b[0m\n\u001b[1;32m     12\u001b[0m         \u001b[0;32mdef\u001b[0m \u001b[0mvjp\u001b[0m\u001b[0;34m(\u001b[0m\u001b[0mg\u001b[0m\u001b[0;34m)\u001b[0m\u001b[0;34m:\u001b[0m \u001b[0;32mreturn\u001b[0m \u001b[0mvspace\u001b[0m\u001b[0;34m(\u001b[0m\u001b[0mx\u001b[0m\u001b[0;34m)\u001b[0m\u001b[0;34m.\u001b[0m\u001b[0mzeros\u001b[0m\u001b[0;34m(\u001b[0m\u001b[0;34m)\u001b[0m\u001b[0;34m\u001b[0m\u001b[0;34m\u001b[0m\u001b[0m\n\u001b[1;32m     13\u001b[0m     \u001b[0;32melse\u001b[0m\u001b[0;34m:\u001b[0m\u001b[0;34m\u001b[0m\u001b[0;34m\u001b[0m\u001b[0m\n\u001b[0;32m---> 14\u001b[0;31m         \u001b[0;32mdef\u001b[0m \u001b[0mvjp\u001b[0m\u001b[0;34m(\u001b[0m\u001b[0mg\u001b[0m\u001b[0;34m)\u001b[0m\u001b[0;34m:\u001b[0m \u001b[0;32mreturn\u001b[0m \u001b[0mbackward_pass\u001b[0m\u001b[0;34m(\u001b[0m\u001b[0mg\u001b[0m\u001b[0;34m,\u001b[0m \u001b[0mend_node\u001b[0m\u001b[0;34m)\u001b[0m\u001b[0;34m\u001b[0m\u001b[0;34m\u001b[0m\u001b[0m\n\u001b[0m\u001b[1;32m     15\u001b[0m     \u001b[0;32mreturn\u001b[0m \u001b[0mvjp\u001b[0m\u001b[0;34m,\u001b[0m \u001b[0mend_value\u001b[0m\u001b[0;34m\u001b[0m\u001b[0;34m\u001b[0m\u001b[0m\n\u001b[1;32m     16\u001b[0m \u001b[0;34m\u001b[0m\u001b[0m\n",
            "\u001b[0;32m/usr/local/lib/python3.6/dist-packages/autograd/core.py\u001b[0m in \u001b[0;36mbackward_pass\u001b[0;34m(g, end_node)\u001b[0m\n\u001b[1;32m     19\u001b[0m     \u001b[0;32mfor\u001b[0m \u001b[0mnode\u001b[0m \u001b[0;32min\u001b[0m \u001b[0mtoposort\u001b[0m\u001b[0;34m(\u001b[0m\u001b[0mend_node\u001b[0m\u001b[0;34m)\u001b[0m\u001b[0;34m:\u001b[0m\u001b[0;34m\u001b[0m\u001b[0;34m\u001b[0m\u001b[0m\n\u001b[1;32m     20\u001b[0m         \u001b[0moutgrad\u001b[0m \u001b[0;34m=\u001b[0m \u001b[0moutgrads\u001b[0m\u001b[0;34m.\u001b[0m\u001b[0mpop\u001b[0m\u001b[0;34m(\u001b[0m\u001b[0mnode\u001b[0m\u001b[0;34m)\u001b[0m\u001b[0;34m\u001b[0m\u001b[0;34m\u001b[0m\u001b[0m\n\u001b[0;32m---> 21\u001b[0;31m         \u001b[0mingrads\u001b[0m \u001b[0;34m=\u001b[0m \u001b[0mnode\u001b[0m\u001b[0;34m.\u001b[0m\u001b[0mvjp\u001b[0m\u001b[0;34m(\u001b[0m\u001b[0moutgrad\u001b[0m\u001b[0;34m[\u001b[0m\u001b[0;36m0\u001b[0m\u001b[0;34m]\u001b[0m\u001b[0;34m)\u001b[0m\u001b[0;34m\u001b[0m\u001b[0;34m\u001b[0m\u001b[0m\n\u001b[0m\u001b[1;32m     22\u001b[0m         \u001b[0;32mfor\u001b[0m \u001b[0mparent\u001b[0m\u001b[0;34m,\u001b[0m \u001b[0mingrad\u001b[0m \u001b[0;32min\u001b[0m \u001b[0mzip\u001b[0m\u001b[0;34m(\u001b[0m\u001b[0mnode\u001b[0m\u001b[0;34m.\u001b[0m\u001b[0mparents\u001b[0m\u001b[0;34m,\u001b[0m \u001b[0mingrads\u001b[0m\u001b[0;34m)\u001b[0m\u001b[0;34m:\u001b[0m\u001b[0;34m\u001b[0m\u001b[0;34m\u001b[0m\u001b[0m\n\u001b[1;32m     23\u001b[0m             \u001b[0moutgrads\u001b[0m\u001b[0;34m[\u001b[0m\u001b[0mparent\u001b[0m\u001b[0;34m]\u001b[0m \u001b[0;34m=\u001b[0m \u001b[0madd_outgrads\u001b[0m\u001b[0;34m(\u001b[0m\u001b[0moutgrads\u001b[0m\u001b[0;34m.\u001b[0m\u001b[0mget\u001b[0m\u001b[0;34m(\u001b[0m\u001b[0mparent\u001b[0m\u001b[0;34m)\u001b[0m\u001b[0;34m,\u001b[0m \u001b[0mingrad\u001b[0m\u001b[0;34m)\u001b[0m\u001b[0;34m\u001b[0m\u001b[0;34m\u001b[0m\u001b[0m\n",
            "\u001b[0;32m/usr/local/lib/python3.6/dist-packages/autograd/core.py\u001b[0m in \u001b[0;36m<lambda>\u001b[0;34m(g)\u001b[0m\n\u001b[1;32m     65\u001b[0m                     \"VJP of {} wrt argnum 0 not defined\".format(fun.__name__))\n\u001b[1;32m     66\u001b[0m             \u001b[0mvjp\u001b[0m \u001b[0;34m=\u001b[0m \u001b[0mvjpfun\u001b[0m\u001b[0;34m(\u001b[0m\u001b[0mans\u001b[0m\u001b[0;34m,\u001b[0m \u001b[0;34m*\u001b[0m\u001b[0margs\u001b[0m\u001b[0;34m,\u001b[0m \u001b[0;34m**\u001b[0m\u001b[0mkwargs\u001b[0m\u001b[0;34m)\u001b[0m\u001b[0;34m\u001b[0m\u001b[0;34m\u001b[0m\u001b[0m\n\u001b[0;32m---> 67\u001b[0;31m             \u001b[0;32mreturn\u001b[0m \u001b[0;32mlambda\u001b[0m \u001b[0mg\u001b[0m\u001b[0;34m:\u001b[0m \u001b[0;34m(\u001b[0m\u001b[0mvjp\u001b[0m\u001b[0;34m(\u001b[0m\u001b[0mg\u001b[0m\u001b[0;34m)\u001b[0m\u001b[0;34m,\u001b[0m\u001b[0;34m)\u001b[0m\u001b[0;34m\u001b[0m\u001b[0;34m\u001b[0m\u001b[0m\n\u001b[0m\u001b[1;32m     68\u001b[0m         \u001b[0;32melif\u001b[0m \u001b[0mL\u001b[0m \u001b[0;34m==\u001b[0m \u001b[0;36m2\u001b[0m\u001b[0;34m:\u001b[0m\u001b[0;34m\u001b[0m\u001b[0;34m\u001b[0m\u001b[0m\n\u001b[1;32m     69\u001b[0m             \u001b[0margnum_0\u001b[0m\u001b[0;34m,\u001b[0m \u001b[0margnum_1\u001b[0m \u001b[0;34m=\u001b[0m \u001b[0margnums\u001b[0m\u001b[0;34m\u001b[0m\u001b[0;34m\u001b[0m\u001b[0m\n",
            "\u001b[0;32m/usr/local/lib/python3.6/dist-packages/autograd/numpy/numpy_vjps.py\u001b[0m in \u001b[0;36m<lambda>\u001b[0;34m(g)\u001b[0m\n\u001b[1;32m    452\u001b[0m \u001b[0;32mdef\u001b[0m \u001b[0mdot_vjp_0\u001b[0m\u001b[0;34m(\u001b[0m\u001b[0mans\u001b[0m\u001b[0;34m,\u001b[0m \u001b[0mA\u001b[0m\u001b[0;34m,\u001b[0m \u001b[0mB\u001b[0m\u001b[0;34m)\u001b[0m\u001b[0;34m:\u001b[0m\u001b[0;34m\u001b[0m\u001b[0;34m\u001b[0m\u001b[0m\n\u001b[1;32m    453\u001b[0m     \u001b[0mA_meta\u001b[0m\u001b[0;34m,\u001b[0m \u001b[0mB_meta\u001b[0m \u001b[0;34m=\u001b[0m \u001b[0manp\u001b[0m\u001b[0;34m.\u001b[0m\u001b[0mmetadata\u001b[0m\u001b[0;34m(\u001b[0m\u001b[0mA\u001b[0m\u001b[0;34m)\u001b[0m\u001b[0;34m,\u001b[0m \u001b[0manp\u001b[0m\u001b[0;34m.\u001b[0m\u001b[0mmetadata\u001b[0m\u001b[0;34m(\u001b[0m\u001b[0mB\u001b[0m\u001b[0;34m)\u001b[0m\u001b[0;34m\u001b[0m\u001b[0;34m\u001b[0m\u001b[0m\n\u001b[0;32m--> 454\u001b[0;31m     \u001b[0;32mreturn\u001b[0m \u001b[0;32mlambda\u001b[0m \u001b[0mg\u001b[0m\u001b[0;34m:\u001b[0m \u001b[0mmatch_complex\u001b[0m\u001b[0;34m(\u001b[0m\u001b[0mA\u001b[0m\u001b[0;34m,\u001b[0m \u001b[0mdot_adjoint_0\u001b[0m\u001b[0;34m(\u001b[0m\u001b[0mB\u001b[0m\u001b[0;34m,\u001b[0m \u001b[0mg\u001b[0m\u001b[0;34m,\u001b[0m \u001b[0mA_meta\u001b[0m\u001b[0;34m,\u001b[0m \u001b[0mB_meta\u001b[0m\u001b[0;34m)\u001b[0m\u001b[0;34m)\u001b[0m\u001b[0;34m\u001b[0m\u001b[0;34m\u001b[0m\u001b[0m\n\u001b[0m\u001b[1;32m    455\u001b[0m \u001b[0;34m\u001b[0m\u001b[0m\n\u001b[1;32m    456\u001b[0m \u001b[0;32mdef\u001b[0m \u001b[0mdot_vjp_1\u001b[0m\u001b[0;34m(\u001b[0m\u001b[0mans\u001b[0m\u001b[0;34m,\u001b[0m \u001b[0mA\u001b[0m\u001b[0;34m,\u001b[0m \u001b[0mB\u001b[0m\u001b[0;34m)\u001b[0m\u001b[0;34m:\u001b[0m\u001b[0;34m\u001b[0m\u001b[0;34m\u001b[0m\u001b[0m\n",
            "\u001b[0;32m/usr/local/lib/python3.6/dist-packages/autograd/tracer.py\u001b[0m in \u001b[0;36mf_wrapped\u001b[0;34m(*args, **kwargs)\u001b[0m\n\u001b[1;32m     42\u001b[0m             \u001b[0mparents\u001b[0m \u001b[0;34m=\u001b[0m \u001b[0mtuple\u001b[0m\u001b[0;34m(\u001b[0m\u001b[0mbox\u001b[0m\u001b[0;34m.\u001b[0m\u001b[0m_node\u001b[0m \u001b[0;32mfor\u001b[0m \u001b[0m_\u001b[0m     \u001b[0;34m,\u001b[0m \u001b[0mbox\u001b[0m \u001b[0;32min\u001b[0m \u001b[0mboxed_args\u001b[0m\u001b[0;34m)\u001b[0m\u001b[0;34m\u001b[0m\u001b[0;34m\u001b[0m\u001b[0m\n\u001b[1;32m     43\u001b[0m             \u001b[0margnums\u001b[0m \u001b[0;34m=\u001b[0m \u001b[0mtuple\u001b[0m\u001b[0;34m(\u001b[0m\u001b[0margnum\u001b[0m    \u001b[0;32mfor\u001b[0m \u001b[0margnum\u001b[0m\u001b[0;34m,\u001b[0m \u001b[0m_\u001b[0m   \u001b[0;32min\u001b[0m \u001b[0mboxed_args\u001b[0m\u001b[0;34m)\u001b[0m\u001b[0;34m\u001b[0m\u001b[0;34m\u001b[0m\u001b[0m\n\u001b[0;32m---> 44\u001b[0;31m             \u001b[0mans\u001b[0m \u001b[0;34m=\u001b[0m \u001b[0mf_wrapped\u001b[0m\u001b[0;34m(\u001b[0m\u001b[0;34m*\u001b[0m\u001b[0margvals\u001b[0m\u001b[0;34m,\u001b[0m \u001b[0;34m**\u001b[0m\u001b[0mkwargs\u001b[0m\u001b[0;34m)\u001b[0m\u001b[0;34m\u001b[0m\u001b[0;34m\u001b[0m\u001b[0m\n\u001b[0m\u001b[1;32m     45\u001b[0m             \u001b[0mnode\u001b[0m \u001b[0;34m=\u001b[0m \u001b[0mnode_constructor\u001b[0m\u001b[0;34m(\u001b[0m\u001b[0mans\u001b[0m\u001b[0;34m,\u001b[0m \u001b[0mf_wrapped\u001b[0m\u001b[0;34m,\u001b[0m \u001b[0margvals\u001b[0m\u001b[0;34m,\u001b[0m \u001b[0mkwargs\u001b[0m\u001b[0;34m,\u001b[0m \u001b[0margnums\u001b[0m\u001b[0;34m,\u001b[0m \u001b[0mparents\u001b[0m\u001b[0;34m)\u001b[0m\u001b[0;34m\u001b[0m\u001b[0;34m\u001b[0m\u001b[0m\n\u001b[1;32m     46\u001b[0m             \u001b[0;32mreturn\u001b[0m \u001b[0mnew_box\u001b[0m\u001b[0;34m(\u001b[0m\u001b[0mans\u001b[0m\u001b[0;34m,\u001b[0m \u001b[0mtrace\u001b[0m\u001b[0;34m,\u001b[0m \u001b[0mnode\u001b[0m\u001b[0;34m)\u001b[0m\u001b[0;34m\u001b[0m\u001b[0;34m\u001b[0m\u001b[0m\n",
            "\u001b[0;32m/usr/local/lib/python3.6/dist-packages/autograd/tracer.py\u001b[0m in \u001b[0;36mf_wrapped\u001b[0;34m(*args, **kwargs)\u001b[0m\n\u001b[1;32m     42\u001b[0m             \u001b[0mparents\u001b[0m \u001b[0;34m=\u001b[0m \u001b[0mtuple\u001b[0m\u001b[0;34m(\u001b[0m\u001b[0mbox\u001b[0m\u001b[0;34m.\u001b[0m\u001b[0m_node\u001b[0m \u001b[0;32mfor\u001b[0m \u001b[0m_\u001b[0m     \u001b[0;34m,\u001b[0m \u001b[0mbox\u001b[0m \u001b[0;32min\u001b[0m \u001b[0mboxed_args\u001b[0m\u001b[0;34m)\u001b[0m\u001b[0;34m\u001b[0m\u001b[0;34m\u001b[0m\u001b[0m\n\u001b[1;32m     43\u001b[0m             \u001b[0margnums\u001b[0m \u001b[0;34m=\u001b[0m \u001b[0mtuple\u001b[0m\u001b[0;34m(\u001b[0m\u001b[0margnum\u001b[0m    \u001b[0;32mfor\u001b[0m \u001b[0margnum\u001b[0m\u001b[0;34m,\u001b[0m \u001b[0m_\u001b[0m   \u001b[0;32min\u001b[0m \u001b[0mboxed_args\u001b[0m\u001b[0;34m)\u001b[0m\u001b[0;34m\u001b[0m\u001b[0;34m\u001b[0m\u001b[0m\n\u001b[0;32m---> 44\u001b[0;31m             \u001b[0mans\u001b[0m \u001b[0;34m=\u001b[0m \u001b[0mf_wrapped\u001b[0m\u001b[0;34m(\u001b[0m\u001b[0;34m*\u001b[0m\u001b[0margvals\u001b[0m\u001b[0;34m,\u001b[0m \u001b[0;34m**\u001b[0m\u001b[0mkwargs\u001b[0m\u001b[0;34m)\u001b[0m\u001b[0;34m\u001b[0m\u001b[0;34m\u001b[0m\u001b[0m\n\u001b[0m\u001b[1;32m     45\u001b[0m             \u001b[0mnode\u001b[0m \u001b[0;34m=\u001b[0m \u001b[0mnode_constructor\u001b[0m\u001b[0;34m(\u001b[0m\u001b[0mans\u001b[0m\u001b[0;34m,\u001b[0m \u001b[0mf_wrapped\u001b[0m\u001b[0;34m,\u001b[0m \u001b[0margvals\u001b[0m\u001b[0;34m,\u001b[0m \u001b[0mkwargs\u001b[0m\u001b[0;34m,\u001b[0m \u001b[0margnums\u001b[0m\u001b[0;34m,\u001b[0m \u001b[0mparents\u001b[0m\u001b[0;34m)\u001b[0m\u001b[0;34m\u001b[0m\u001b[0;34m\u001b[0m\u001b[0m\n\u001b[1;32m     46\u001b[0m             \u001b[0;32mreturn\u001b[0m \u001b[0mnew_box\u001b[0m\u001b[0;34m(\u001b[0m\u001b[0mans\u001b[0m\u001b[0;34m,\u001b[0m \u001b[0mtrace\u001b[0m\u001b[0;34m,\u001b[0m \u001b[0mnode\u001b[0m\u001b[0;34m)\u001b[0m\u001b[0;34m\u001b[0m\u001b[0;34m\u001b[0m\u001b[0m\n",
            "\u001b[0;32m/usr/local/lib/python3.6/dist-packages/autograd/tracer.py\u001b[0m in \u001b[0;36mf_wrapped\u001b[0;34m(*args, **kwargs)\u001b[0m\n\u001b[1;32m     46\u001b[0m             \u001b[0;32mreturn\u001b[0m \u001b[0mnew_box\u001b[0m\u001b[0;34m(\u001b[0m\u001b[0mans\u001b[0m\u001b[0;34m,\u001b[0m \u001b[0mtrace\u001b[0m\u001b[0;34m,\u001b[0m \u001b[0mnode\u001b[0m\u001b[0;34m)\u001b[0m\u001b[0;34m\u001b[0m\u001b[0;34m\u001b[0m\u001b[0m\n\u001b[1;32m     47\u001b[0m         \u001b[0;32melse\u001b[0m\u001b[0;34m:\u001b[0m\u001b[0;34m\u001b[0m\u001b[0;34m\u001b[0m\u001b[0m\n\u001b[0;32m---> 48\u001b[0;31m             \u001b[0;32mreturn\u001b[0m \u001b[0mf_raw\u001b[0m\u001b[0;34m(\u001b[0m\u001b[0;34m*\u001b[0m\u001b[0margs\u001b[0m\u001b[0;34m,\u001b[0m \u001b[0;34m**\u001b[0m\u001b[0mkwargs\u001b[0m\u001b[0;34m)\u001b[0m\u001b[0;34m\u001b[0m\u001b[0;34m\u001b[0m\u001b[0m\n\u001b[0m\u001b[1;32m     49\u001b[0m     \u001b[0mf_wrapped\u001b[0m\u001b[0;34m.\u001b[0m\u001b[0mfun\u001b[0m \u001b[0;34m=\u001b[0m \u001b[0mf_raw\u001b[0m\u001b[0;34m\u001b[0m\u001b[0;34m\u001b[0m\u001b[0m\n\u001b[1;32m     50\u001b[0m     \u001b[0mf_wrapped\u001b[0m\u001b[0;34m.\u001b[0m\u001b[0m_is_autograd_primitive\u001b[0m \u001b[0;34m=\u001b[0m \u001b[0;32mTrue\u001b[0m\u001b[0;34m\u001b[0m\u001b[0;34m\u001b[0m\u001b[0m\n",
            "\u001b[0;32m/usr/local/lib/python3.6/dist-packages/autograd/numpy/numpy_vjps.py\u001b[0m in \u001b[0;36mdot_adjoint_0\u001b[0;34m(B, G, A_meta, B_meta)\u001b[0m\n\u001b[1;32m    433\u001b[0m         \u001b[0mout\u001b[0m \u001b[0;34m=\u001b[0m \u001b[0monp\u001b[0m\u001b[0;34m.\u001b[0m\u001b[0mtensordot\u001b[0m\u001b[0;34m(\u001b[0m\u001b[0mG\u001b[0m\u001b[0;34m,\u001b[0m \u001b[0mB\u001b[0m\u001b[0;34m,\u001b[0m \u001b[0mcontract_num\u001b[0m\u001b[0;34m)\u001b[0m\u001b[0;34m\u001b[0m\u001b[0;34m\u001b[0m\u001b[0m\n\u001b[1;32m    434\u001b[0m     \u001b[0;32melse\u001b[0m\u001b[0;34m:\u001b[0m\u001b[0;34m\u001b[0m\u001b[0;34m\u001b[0m\u001b[0m\n\u001b[0;32m--> 435\u001b[0;31m         \u001b[0mout\u001b[0m \u001b[0;34m=\u001b[0m \u001b[0monp\u001b[0m\u001b[0;34m.\u001b[0m\u001b[0mtensordot\u001b[0m\u001b[0;34m(\u001b[0m\u001b[0mG\u001b[0m\u001b[0;34m,\u001b[0m \u001b[0monp\u001b[0m\u001b[0;34m.\u001b[0m\u001b[0mswapaxes\u001b[0m\u001b[0;34m(\u001b[0m\u001b[0mB\u001b[0m\u001b[0;34m,\u001b[0m \u001b[0;34m-\u001b[0m\u001b[0;36m1\u001b[0m\u001b[0;34m,\u001b[0m \u001b[0;34m-\u001b[0m\u001b[0;36m2\u001b[0m\u001b[0;34m)\u001b[0m\u001b[0;34m,\u001b[0m \u001b[0mB_ndim\u001b[0m \u001b[0;34m-\u001b[0m \u001b[0;36m1\u001b[0m\u001b[0;34m)\u001b[0m\u001b[0;34m\u001b[0m\u001b[0;34m\u001b[0m\u001b[0m\n\u001b[0m\u001b[1;32m    436\u001b[0m     \u001b[0;32mreturn\u001b[0m \u001b[0monp\u001b[0m\u001b[0;34m.\u001b[0m\u001b[0masarray\u001b[0m\u001b[0;34m(\u001b[0m\u001b[0mout\u001b[0m\u001b[0;34m,\u001b[0m \u001b[0mdtype\u001b[0m\u001b[0;34m=\u001b[0m\u001b[0mA_dtype\u001b[0m\u001b[0;34m)\u001b[0m\u001b[0;34m\u001b[0m\u001b[0;34m\u001b[0m\u001b[0m\n\u001b[1;32m    437\u001b[0m \u001b[0;34m\u001b[0m\u001b[0m\n",
            "\u001b[0;32m<__array_function__ internals>\u001b[0m in \u001b[0;36mtensordot\u001b[0;34m(*args, **kwargs)\u001b[0m\n",
            "\u001b[0;32m/usr/local/lib/python3.6/dist-packages/numpy/core/numeric.py\u001b[0m in \u001b[0;36mtensordot\u001b[0;34m(a, b, axes)\u001b[0m\n\u001b[1;32m   1100\u001b[0m     \u001b[0mat\u001b[0m \u001b[0;34m=\u001b[0m \u001b[0ma\u001b[0m\u001b[0;34m.\u001b[0m\u001b[0mtranspose\u001b[0m\u001b[0;34m(\u001b[0m\u001b[0mnewaxes_a\u001b[0m\u001b[0;34m)\u001b[0m\u001b[0;34m.\u001b[0m\u001b[0mreshape\u001b[0m\u001b[0;34m(\u001b[0m\u001b[0mnewshape_a\u001b[0m\u001b[0;34m)\u001b[0m\u001b[0;34m\u001b[0m\u001b[0;34m\u001b[0m\u001b[0m\n\u001b[1;32m   1101\u001b[0m     \u001b[0mbt\u001b[0m \u001b[0;34m=\u001b[0m \u001b[0mb\u001b[0m\u001b[0;34m.\u001b[0m\u001b[0mtranspose\u001b[0m\u001b[0;34m(\u001b[0m\u001b[0mnewaxes_b\u001b[0m\u001b[0;34m)\u001b[0m\u001b[0;34m.\u001b[0m\u001b[0mreshape\u001b[0m\u001b[0;34m(\u001b[0m\u001b[0mnewshape_b\u001b[0m\u001b[0;34m)\u001b[0m\u001b[0;34m\u001b[0m\u001b[0;34m\u001b[0m\u001b[0m\n\u001b[0;32m-> 1102\u001b[0;31m     \u001b[0mres\u001b[0m \u001b[0;34m=\u001b[0m \u001b[0mdot\u001b[0m\u001b[0;34m(\u001b[0m\u001b[0mat\u001b[0m\u001b[0;34m,\u001b[0m \u001b[0mbt\u001b[0m\u001b[0;34m)\u001b[0m\u001b[0;34m\u001b[0m\u001b[0;34m\u001b[0m\u001b[0m\n\u001b[0m\u001b[1;32m   1103\u001b[0m     \u001b[0;32mreturn\u001b[0m \u001b[0mres\u001b[0m\u001b[0;34m.\u001b[0m\u001b[0mreshape\u001b[0m\u001b[0;34m(\u001b[0m\u001b[0molda\u001b[0m \u001b[0;34m+\u001b[0m \u001b[0moldb\u001b[0m\u001b[0;34m)\u001b[0m\u001b[0;34m\u001b[0m\u001b[0;34m\u001b[0m\u001b[0m\n\u001b[1;32m   1104\u001b[0m \u001b[0;34m\u001b[0m\u001b[0m\n",
            "\u001b[0;32m<__array_function__ internals>\u001b[0m in \u001b[0;36mdot\u001b[0;34m(*args, **kwargs)\u001b[0m\n",
            "\u001b[0;31mKeyboardInterrupt\u001b[0m: "
          ]
        }
      ]
    },
    {
      "cell_type": "code",
      "metadata": {
        "id": "J0lC58Vow98a"
      },
      "source": [
        ""
      ],
      "execution_count": null,
      "outputs": []
    },
    {
      "cell_type": "markdown",
      "metadata": {
        "id": "gNuRpPSpIjVj"
      },
      "source": [
        "Results For 1D Box with V=0"
      ]
    },
    {
      "cell_type": "markdown",
      "metadata": {
        "id": "qLdg5h134RBw"
      },
      "source": [
        "# Results for V=0 for bounded box"
      ]
    },
    {
      "cell_type": "code",
      "metadata": {
        "colab": {
          "base_uri": "https://localhost:8080/",
          "height": 339
        },
        "id": "eR1bGdBdIX4v",
        "outputId": "761e5306-a2f1-4034-a408-31fae7a59ba9"
      },
      "source": [
        "#eint=0\n",
        "# Without prob reg\n",
        "import matplotlib.pyplot as plt\n",
        "x = np.linspace(x0, x1)[:, None]\n",
        "y = psi(params['nn'], x)\n",
        "print(\"n = \", n, \"\\nl = \", l ,\"\\nE = \", params['E'])\n",
        "plt.plot(x, y, label='NN')  # Plotting the NN output\n",
        "#plt.plot(x, np.sqrt(2/l) * np.sin(##6*np.pi/2 * (x-x0)/l), 'r--', label='analytical')  # Plotting the actual wavefuncion\n",
        "plt.legend()\n",
        "print(x.shape)"
      ],
      "execution_count": null,
      "outputs": [
        {
          "output_type": "stream",
          "text": [
            "n =  9 \n",
            "l =  2 \n",
            "E =  -0.537431002535084\n",
            "(50, 1)\n"
          ],
          "name": "stdout"
        },
        {
          "output_type": "display_data",
          "data": {
            "image/png": "[encoded data removed]",
            "text/plain": [
              "<Figure size 432x288 with 1 Axes>"
            ]
          },
          "metadata": {
            "tags": []
          }
        }
      ]
    },
    {
      "cell_type": "code",
      "metadata": {
        "colab": {
          "base_uri": "https://localhost:8080/",
          "height": 338
        },
        "id": "GA06CURSJ6as",
        "outputId": "1bbb9a2a-9a82-4f8f-cbaa-e8e813661ab6"
      },
      "source": [
        "\n",
        "# Einit=80\n",
        "import matplotlib.pyplot as plt\n",
        "x = np.linspace(x0, x1)[:, None]\n",
        "y = psi(params['nn'], x)\n",
        "print(\"n = \", n, \"\\nl = \", l ,\"\\nE = \", params['E'])\n",
        "plt.plot(x, y, label='NN')  # Plotting the NN output\n",
        "#.plot(x, np.sqrt(2/l) * np.sin(n*np.pi * (x-x0)/l), 'r--', label='analytical')  # Plotting the actual wavefuncion\n",
        "plt.legend()"
      ],
      "execution_count": null,
      "outputs": [
        {
          "output_type": "stream",
          "text": [
            "n =  9 \n",
            "l =  2 \n",
            "E =  50.472087619608665\n"
          ],
          "name": "stdout"
        },
        {
          "output_type": "execute_result",
          "data": {
            "text/plain": [
              "<matplotlib.legend.Legend at 0x7f40fcc4c048>"
            ]
          },
          "metadata": {
            "tags": []
          },
          "execution_count": 72
        },
        {
          "output_type": "display_data",
          "data": {
            "image/png": "[encoded data removed]",
            "text/plain": [
              "<Figure size 432x288 with 1 Axes>"
            ]
          },
          "metadata": {
            "tags": []
          }
        }
      ]
    },
    {
      "cell_type": "code",
      "metadata": {
        "colab": {
          "base_uri": "https://localhost:8080/",
          "height": 286
        },
        "id": "Jn5pu6lygFNI",
        "outputId": "7f7e253e-c443-47f5-fb42-6068e0719fd7"
      },
      "source": [
        "#Eint=85\n",
        "well=4\n",
        "import matplotlib.pyplot as plt\n",
        "x = np.linspace(x0, x1)[:, None]\n",
        "y = -psi(params['nn'], x)\n",
        "#print(\"n = \", n, \"\\nl = \", l ,\"\\nE = \", En1l1)\n",
        "plt.plot(x, y, label='NN')  # Plotting the NN output\n",
        "#plt.plot(x, np.sqrt(2/l) * np.sin(n*np.pi * (x-x0)/l), 'r--', label='analytical')  # Plotting the actual wavefuncion\n",
        "plt.legend()"
      ],
      "execution_count": null,
      "outputs": [
        {
          "output_type": "execute_result",
          "data": {
            "text/plain": [
              "<matplotlib.legend.Legend at 0x7f40fcc8f198>"
            ]
          },
          "metadata": {
            "tags": []
          },
          "execution_count": 85
        },
        {
          "output_type": "display_data",
          "data": {
            "image/png": "[encoded data removed]",
            "text/plain": [
              "<Figure size 432x288 with 1 Axes>"
            ]
          },
          "metadata": {
            "tags": []
          }
        }
      ]
    },
    {
      "cell_type": "code",
      "metadata": {
        "colab": {
          "base_uri": "https://localhost:8080/",
          "height": 283
        },
        "id": "nErre6XIvJqG",
        "outputId": "51e5890a-77cc-4192-da75-610ab5addc27"
      },
      "source": [
        "#n = 1 l = 1 Einit = 0 omega=E\n",
        "# With prob reg\n",
        "import matplotlib.pyplot as plt\n",
        "x = np.linspace(x0, x1)[:, None]\n",
        "y = -psi(params['nn'], x)\n",
        "#print(\"n = \", n, \"\\nl = \", l ,\"\\nE = \", str(params['E']))\n",
        "plt.plot(x, y, label='NN '+'E ='+str(params['E']))  # Plotting the NN output\n",
        "#plt.plot(x, np.sqrt(2/l) * np.sin(n*np.pi * (x-x0)/l), 'r--', label='analytical')  # Plotting the actual wavefuncion\n",
        "plt.legend()"
      ],
      "execution_count": null,
      "outputs": [
        {
          "output_type": "execute_result",
          "data": {
            "text/plain": [
              "<matplotlib.legend.Legend at 0x7f41000a42e8>"
            ]
          },
          "metadata": {
            "tags": []
          },
          "execution_count": 97
        },
        {
          "output_type": "display_data",
          "data": {
            "image/png": "[encoded data removed]",
            "text/plain": [
              "<Figure size 432x288 with 1 Axes>"
            ]
          },
          "metadata": {
            "tags": []
          }
        }
      ]
    },
    {
      "cell_type": "code",
      "metadata": {
        "colab": {
          "base_uri": "https://localhost:8080/",
          "height": 283
        },
        "id": "jvK4Qqse53MO",
        "outputId": "824904ad-8348-4eb2-9922-9675d8f681ab"
      },
      "source": [
        "#n = 1 l = 1\n",
        "#w=2 E=1\n",
        "import matplotlib.pyplot as plt\n",
        "x = np.linspace(x0, x1)[:, None]\n",
        "y = -psi(params['nn'], x)\n",
        "\n",
        "plt.plot(x, y, label='NN')  # Plotting the NN output\n",
        "#plt.plot(x, np.sqrt(2/l) * np.sin(n*np.pi * (x-x0)/l), 'r--', label='analytical')  # Plotting the actual wavefuncion\n",
        "plt.legend()\n"
      ],
      "execution_count": null,
      "outputs": [
        {
          "output_type": "execute_result",
          "data": {
            "text/plain": [
              "<matplotlib.legend.Legend at 0x7f40fcdcf9e8>"
            ]
          },
          "metadata": {
            "tags": []
          },
          "execution_count": 108
        },
        {
          "output_type": "display_data",
          "data": {
            "image/png": "[encoded data removed]",
            "text/plain": [
              "<Figure size 432x288 with 1 Axes>"
            ]
          },
          "metadata": {
            "tags": []
          }
        }
      ]
    },
    {
      "cell_type": "code",
      "metadata": {
        "colab": {
          "base_uri": "https://localhost:8080/",
          "height": 339
        },
        "id": "Qe2qriCdNW4a",
        "outputId": "0eeddcbf-943b-491b-9a28-971857d55dbe"
      },
      "source": [
        "#E = 4.5 w=1\n",
        "#With prob reg\n",
        "import matplotlib.pyplot as plt\n",
        "x = np.linspace(x0, x1)[:, None]\n",
        "y = -psi(params['nn'], x)\n",
        "print(\"n = \", n, \"\\nl = \", l ,\"\\nE = \", str(params['E']))\n",
        "plt.plot(x, y, label='NN')  # Plotting the NN output\n",
        "#plt.plot(x, np.sqrt(2/l) * np.sin(n*np.pi * (x-x0)/l), 'r--', label='analytical')  # Plotting the actual wavefuncion\n",
        "plt.legend()"
      ],
      "execution_count": null,
      "outputs": [
        {
          "output_type": "stream",
          "text": [
            "n =  9 \n",
            "l =  2 \n",
            "E =  -2.0\n"
          ],
          "name": "stdout"
        },
        {
          "output_type": "execute_result",
          "data": {
            "text/plain": [
              "<matplotlib.legend.Legend at 0x7f40fcdf10b8>"
            ]
          },
          "metadata": {
            "tags": []
          },
          "execution_count": 114
        },
        {
          "output_type": "display_data",
          "data": {
            "image/png": "[encoded data removed]",
            "text/plain": [
              "<Figure size 432x288 with 1 Axes>"
            ]
          },
          "metadata": {
            "tags": []
          }
        }
      ]
    },
    {
      "cell_type": "code",
      "metadata": {
        "colab": {
          "base_uri": "https://localhost:8080/",
          "height": 342
        },
        "id": "TtzwbvgKqziw",
        "outputId": "08c4b7b3-c6ed-49e7-9553-d9fb850dc8c3"
      },
      "source": [
        "#E = 6 w=3\n",
        "#With prob reg\n",
        "import matplotlib.pyplot as plt\n",
        "x = np.linspace(x0, x1)[:, None]\n",
        "y = -psi(params['nn'], x)\n",
        "print(\"n = \", n, \"\\nl = \", l ,\"\\nE = \", str(params['E']))\n",
        "plt.plot(x, y, label='NN')  # Plotting the NN output\n",
        "#plt.plot(x, np.sqrt(2/l) * np.sin(n*np.pi * (x-x0)/l), 'r--', label='analytical')  # Plotting the actual wavefuncion\n",
        "plt.legend()"
      ],
      "execution_count": null,
      "outputs": [
        {
          "output_type": "stream",
          "text": [
            "n =  9 \n",
            "l =  2 \n",
            "E =  -2.0\n"
          ],
          "name": "stdout"
        },
        {
          "output_type": "execute_result",
          "data": {
            "text/plain": [
              "<matplotlib.legend.Legend at 0x7f40fd188a58>"
            ]
          },
          "metadata": {
            "tags": []
          },
          "execution_count": 123
        },
        {
          "output_type": "display_data",
          "data": {
            "image/png": "[encoded data removed]",
            "text/plain": [
              "<Figure size 432x288 with 1 Axes>"
            ]
          },
          "metadata": {
            "tags": []
          }
        }
      ]
    },
    {
      "cell_type": "code",
      "metadata": {
        "colab": {
          "base_uri": "https://localhost:8080/",
          "height": 339
        },
        "id": "skIDKbuIsmtc",
        "outputId": "1218e6c3-84b5-4c2a-f58f-771007780fa1"
      },
      "source": [
        "#E = 9 w=1\n",
        "#With prob reg\n",
        "import matplotlib.pyplot as plt\n",
        "x = np.linspace(x0, x1)[:, None]\n",
        "y = -psi(params['nn'], x)\n",
        "print(\"n = \", n, \"\\nl = \", l ,\"\\nE = \", str(params['E']))\n",
        "plt.plot(x, y, label='NN')  # Plotting the NN output\n",
        "#plt.plot(x, np.sqrt(2/l) * np.sin(n*np.pi * (x-x0)/l), 'r--', label='analytical')  # Plotting the actual wavefuncion\n",
        "plt.legend()"
      ],
      "execution_count": null,
      "outputs": [
        {
          "output_type": "stream",
          "text": [
            "n =  9 \n",
            "l =  2 \n",
            "E =  -2.0\n"
          ],
          "name": "stdout"
        },
        {
          "output_type": "execute_result",
          "data": {
            "text/plain": [
              "<matplotlib.legend.Legend at 0x7f40fd7bada0>"
            ]
          },
          "metadata": {
            "tags": []
          },
          "execution_count": 129
        },
        {
          "output_type": "display_data",
          "data": {
            "image/png": "[encoded data removed]",
            "text/plain": [
              "<Figure size 432x288 with 1 Axes>"
            ]
          },
          "metadata": {
            "tags": []
          }
        }
      ]
    },
    {
      "cell_type": "code",
      "metadata": {
        "colab": {
          "base_uri": "https://localhost:8080/",
          "height": 286
        },
        "id": "h67igfLVzQpp",
        "outputId": "373decb1-49eb-4e58-dd18-1c38dfe64044"
      },
      "source": [
        "#E = 4.5 w=1\n",
        "#With prob reg\n",
        "import matplotlib.pyplot as plt\n",
        "x = np.linspace(x0, x1)[:, None]\n",
        "y = -psi(params['nn'], x)\n",
        "plt.plot(x, y, label='NN')  # Plotting the NN output\n",
        "#plt.plot(x, np.sqrt(2/l) * np.sin(n*np.pi * (x-x0)/l), 'r--', label='analytical')  # Plotting the actual wavefuncion\n",
        "plt.legend()"
      ],
      "execution_count": null,
      "outputs": [
        {
          "output_type": "execute_result",
          "data": {
            "text/plain": [
              "<matplotlib.legend.Legend at 0x7f40fc9b4438>"
            ]
          },
          "metadata": {
            "tags": []
          },
          "execution_count": 136
        },
        {
          "output_type": "display_data",
          "data": {
            "image/png": "[encoded data removed]",
            "text/plain": [
              "<Figure size 432x288 with 1 Axes>"
            ]
          },
          "metadata": {
            "tags": []
          }
        }
      ]
    },
    {
      "cell_type": "markdown",
      "metadata": {
        "id": "BZwg8ozS4bMP"
      },
      "source": [
        "# Bounded Box with Potential Functions"
      ]
    },
    {
      "cell_type": "markdown",
      "metadata": {
        "id": "EWuJFGMB-rat"
      },
      "source": [
        "Case 1 - Potential Step"
      ]
    },
    {
      "cell_type": "code",
      "metadata": {
        "id": "TcfnjRctnEJ2"
      },
      "source": [
        "V[149:] = 150\n",
        "#print(np.multiply(V, 2*np.ones(x.shape)))"
      ],
      "execution_count": null,
      "outputs": []
    },
    {
      "cell_type": "code",
      "metadata": {
        "colab": {
          "base_uri": "https://localhost:8080/",
          "height": 332
        },
        "id": "huOZ3SEw-OVY",
        "outputId": "44634cd1-6550-4dd8-a5e7-fd1804dc5dfa"
      },
      "source": [
        "import matplotlib.pyplot as plt\n",
        "x = np.linspace(x0, x1)[:, None]\n",
        "y = psi(params['nn'], x)\n",
        "print(\"n = \", n, \"\\nl = \", l ,\"\\nE = \", params['E'])\n",
        "plt.plot(x, y, label='NN')  # Plotting the NN output\n",
        "#plt.plot(x, np.sqrt(2/l) * np.sin(n*np.pi * (x-x0)/l), 'r--', label='analytical')  # Plotting the actual wavefuncion\n",
        "plt.legend()"
      ],
      "execution_count": null,
      "outputs": [
        {
          "output_type": "stream",
          "text": [
            "n =  5 \n",
            "l =  2 \n",
            "E =  28.438288711738537\n"
          ],
          "name": "stdout"
        },
        {
          "output_type": "execute_result",
          "data": {
            "text/plain": [
              "<matplotlib.legend.Legend at 0x7fb0e40b89e8>"
            ]
          },
          "metadata": {
            "tags": []
          },
          "execution_count": 62
        },
        {
          "output_type": "display_data",
          "data": {
            "image/png": "[encoded data removed]",
            "text/plain": [
              "<Figure size 432x288 with 1 Axes>"
            ]
          },
          "metadata": {
            "tags": []
          }
        }
      ]
    },
    {
      "cell_type": "markdown",
      "metadata": {
        "id": "FLCEmaDP_NGX"
      },
      "source": [
        "Case 2 - Potential Well"
      ]
    },
    {
      "cell_type": "code",
      "metadata": {
        "id": "Io7H9t5l_Tjm"
      },
      "source": [
        "V[100:200]"
      ],
      "execution_count": null,
      "outputs": []
    },
    {
      "cell_type": "markdown",
      "metadata": {
        "id": "Rkbeae47_P9x"
      },
      "source": [
        "Case 3 - Linear Potential"
      ]
    },
    {
      "cell_type": "code",
      "metadata": {
        "id": "bghTvKB2_UZH",
        "colab": {
          "base_uri": "https://localhost:8080/",
          "height": 282
        },
        "outputId": "f7ebc96e-2ac0-462f-e1c3-5a0b24d68759"
      },
      "source": [
        "#E = 4.5 w=1\n",
        "#With prob reg\n",
        "import matplotlib.pyplot as plt\n",
        "x = np.linspace(x0, x1)[:, None]\n",
        "y = -psi(params['nn'], x)\n",
        "plt.plot(x, y, label='NN')  # Plotting the NN output\n",
        "#plt.plot(x, np.sqrt(2/l) * np.sin(n*np.pi * (x-x0)/l), 'r--', label='analytical')  # Plotting the actual wavefuncion\n",
        "plt.legend()"
      ],
      "execution_count": null,
      "outputs": [
        {
          "output_type": "execute_result",
          "data": {
            "text/plain": [
              "<matplotlib.legend.Legend at 0x7f5ef1269a90>"
            ]
          },
          "metadata": {
            "tags": []
          },
          "execution_count": 70
        },
        {
          "output_type": "display_data",
          "data": {
            "image/png": "[encoded data removed]",
            "text/plain": [
              "<Figure size 432x288 with 1 Axes>"
            ]
          },
          "metadata": {
            "tags": [],
            "needs_background": "light"
          }
        }
      ]
    },
    {
      "cell_type": "code",
      "metadata": {
        "id": "OpTVe_etAE13"
      },
      "source": [
        ""
      ],
      "execution_count": null,
      "outputs": []
    }
  ]
}